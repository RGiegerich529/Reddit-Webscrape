{
 "cells": [
  {
   "cell_type": "markdown",
   "metadata": {
    "focus": false,
    "id": "69b9a648-bcc7-490d-9f9b-ea244d156bd6"
   },
   "source": [
    "# <font color=blue><div class=\"alert alert-block alert-info\">PROJECT 4: Predict number of comments of a Reddit.com post.<br><br>by: Richard Giegerich<br><br>January 2018</div></font>"
   ]
  },
  {
   "cell_type": "markdown",
   "metadata": {},
   "source": [
    "# <div class=\"alert alert-block alert-info\">STEP 1: Establish the goal, scope of work and expected outcome of the project:</div>"
   ]
  },
  {
   "cell_type": "markdown",
   "metadata": {},
   "source": [
    "## Goal:  The intent of this project is to derive a Machine Learning model that can make the best possible prediction about whether a Reddit.com post will garner more or less than the median number of comments than other posts receive."
   ]
  },
  {
   "cell_type": "markdown",
   "metadata": {},
   "source": [
    "## Scope of work:  Data will be acquired via scraping the Reddit.com homepage to gather information on the latest \"hot\" threads.  This data will be fed into various models that will have varying predictive abilities."
   ]
  },
  {
   "cell_type": "markdown",
   "metadata": {},
   "source": [
    "## Minimum data to be collected on each post:\n",
    "-  Title of the post\n",
    "-  Associated subreddit of the post\n",
    "-  Length of time since it was first posted\n",
    "-  Number of comments that the post has received"
   ]
  },
  {
   "cell_type": "markdown",
   "metadata": {},
   "source": [
    "## Outcome:  Predictive model for number of comments of a Reddit.com post.  Also, through Natural Language Processing, a discussion will also follow about what characteristics of a post can give it a better chance at gaining more comments."
   ]
  },
  {
   "cell_type": "markdown",
   "metadata": {},
   "source": [
    "# <div class=\"alert alert-block alert-info\">STEP 2: Gather data from Reddit.com:</div>"
   ]
  },
  {
   "cell_type": "markdown",
   "metadata": {},
   "source": [
    "## Webscrape post info from Reddit.com:"
   ]
  },
  {
   "cell_type": "markdown",
   "metadata": {},
   "source": [
    "### Import time module to use sleep function to scrape Reddit website slow enough to allow continuous scraping:"
   ]
  },
  {
   "cell_type": "code",
   "execution_count": 313,
   "metadata": {},
   "outputs": [
    {
     "name": "stdout",
     "output_type": "stream",
     "text": [
      "hello\n",
      "bye\n"
     ]
    }
   ],
   "source": [
    "import time\n",
    "print \"hello\"\n",
    "time.sleep(3)\n",
    "print \"bye\""
   ]
  },
  {
   "cell_type": "markdown",
   "metadata": {
    "focus": false,
    "id": "a948d79c-5527-4c0d-ab23-f5d43ce72056"
   },
   "source": [
    "### Set up URL and run test scrapes one page at a time before running continuous scraping program:"
   ]
  },
  {
   "cell_type": "code",
   "execution_count": 314,
   "metadata": {
    "collapsed": true
   },
   "outputs": [],
   "source": [
    "import requests\n",
    "from bs4 import BeautifulSoup\n",
    "from selenium import webdriver"
   ]
  },
  {
   "cell_type": "code",
   "execution_count": 315,
   "metadata": {
    "collapsed": true
   },
   "outputs": [],
   "source": [
    "URL = \"http://www.reddit.com\""
   ]
  },
  {
   "cell_type": "code",
   "execution_count": 316,
   "metadata": {},
   "outputs": [
    {
     "data": {
      "text/plain": [
       "u'<!DOCTYPE html><html xmlns=\"http://www.w3.org/1999/xhtml\" lang=\"en\" xml:lang=\"en\" class=\" js cssanimations csstransforms\"><head><title>reddit: the front page of the internet</title><meta name=\"keywords\" content=\" reddit, reddit.com, vote, comment, submit \" /><meta name=\"description\" content=\"reddit: the front page of the internet\" /><meta name=\"referrer\" content=\"always\" /><meta http-equiv=\"Content-Type\" content=\"text/html; charset=UTF-8\" /><link type=\"application/opensearchdescription+xml\" rel=\"search\" href=\"/static/opensearch.xml\" /><link rel=\"canonical\" href=\"https://www.reddit.com/\" /><meta name=\"viewport\" content=\"width=1024\" /><link rel=\"dns-prefetch\" href=\"//out.reddit.com\" /><link rel=\"preconnect\" href=\"//out.reddit.com\" /><link rel=\"apple-touch-icon\" sizes=\"57x57\" href=\"//www.redditstatic.com/desktop2x/img/favicon/apple-icon-57x57.png\" /><link rel=\"apple-touch-icon\" sizes=\"60x60\" href=\"//www.redditstatic.com/desktop2x/img/favicon/apple-icon-60x60.png\" /><link rel=\"apple-touch-icon\" sizes=\"72x72\" href=\"//www.redditstatic.com/desktop2x/img/favicon/apple-icon-72x72.png\" /><link rel=\"apple-touch-icon\" sizes=\"76x76\" href=\"//www.redditstatic.com/desktop2x/img/favicon/apple-icon-76x76.png\" /><link rel=\"apple-touch-icon\" sizes=\"114x114\" href=\"//www.redditstatic.com/desktop2x/img/favicon/apple-icon-114x114.png\" /><link rel=\"apple-touch-icon\" sizes=\"120x120\" href=\"//www.redditstatic.com/desktop2x/img/favicon/apple-icon-120x120.png\" /><link rel=\"apple-touch-icon\" sizes=\"144x144\" href=\"//www.redditstatic.com/desktop2x/img/favicon/apple-icon-144x144.png\" /><link rel=\"apple-touch-icon\" sizes=\"152x152\" href=\"//www.redditstatic.com/desktop2x/img/favicon/apple-icon-152x152.png\" /><link rel=\"apple-touch-icon\" sizes=\"180x180\" href=\"//www.redditstatic.com/desktop2x/img/favicon/apple-icon-180x180.png\" /><link rel=\"icon\" type=\"image/png\" sizes=\"192x192\" href=\"//www.redditstatic.com/desktop2x/img/favicon/android-icon-192x192.png\" /><link rel=\"icon\" type=\"image/png\" sizes=\"32x32\" href=\"//www.redditstatic.com/desktop2x/img/favicon/favicon-32x32.png\" /><link rel=\"icon\" type=\"image/png\" sizes=\"96x96\" href=\"//www.redditstatic.com/desktop2x/img/favicon/favicon-96x96.png\" /><link rel=\"icon\" type=\"image/png\" sizes=\"16x16\" href=\"//www.redditstatic.com/desktop2x/img/favicon/favicon-16x16.png\" /><link rel=\"manifest\" href=\"//www.redditstatic.com/desktop2x/img/favicon/manifest.json\" /><meta name=\"msapplication-TileColor\" content=\"#ffffff\" /><meta name=\"msapplication-TileImage\" conte'"
      ]
     },
     "execution_count": 316,
     "metadata": {},
     "output_type": "execute_result"
    }
   ],
   "source": [
    "driver = webdriver.Chrome(executable_path='./chromedriver')\n",
    "driver.get(URL)\n",
    "html = driver.page_source\n",
    "soup = BeautifulSoup(html, 'lxml')\n",
    "html[:2500]"
   ]
  },
  {
   "cell_type": "markdown",
   "metadata": {},
   "source": [
    "#### Use BeautifulSoup to parse HTML from website and look at scraped titles:"
   ]
  },
  {
   "cell_type": "code",
   "execution_count": 318,
   "metadata": {
    "collapsed": true,
    "scrolled": true
   },
   "outputs": [],
   "source": [
    "soup = BeautifulSoup(html, 'lxml')\n",
    "titles = soup.findAll(\"a\", {\"data-event-action\": \"title\"})"
   ]
  },
  {
   "cell_type": "code",
   "execution_count": 319,
   "metadata": {},
   "outputs": [
    {
     "name": "stdout",
     "output_type": "stream",
     "text": [
      "Hey Reddit, we've created a special space full of fun, weird and unique items that you probably didn't even know existed on Amazon! Shop our endless finds today!\n",
      "Rainy days in NYC\n",
      "My dad and I are a great reminder that genetics aren’t an exact science\n",
      "A gentleman\n",
      "Everything is better with a combat roll.\n",
      "Death and the Dog\n",
      "When you’re suspended from hogwarts\n",
      "Dan Bilzerian murdered by Diplo\n",
      "The light at the end of the wave.\n",
      "2meirl4meirl\n",
      "Pizza slid out of the box.\n",
      "ENLIGHTENED BOYE\n",
      "TIL during the first combat usage of the American Sidewinder missile in 1958, a dud hit an enemy plane and became lodged without exploding. The pilot returned to base, allowing Soviet engineers to study it and reverse-engineer a nearly identical missile for their own use.\n",
      "On April fools, Snapchat should remove filters from sent pictures so the recipient just gets funny faces.\n",
      "Fitness tracking app gives away location of secret US army bases\n",
      "\"I'm prepared to be shot,\" says one protester as Russia’s youth takes the lead in countrywide protests against Putin.\n",
      "Girl Scouts selling cookies outside of a dispensary.\n",
      "It's Data Privacy Day 2018! I'm the Founder & CEO of DuckDuckGo, the Internet privacy company, here to answer questions about privacy, with other DuckDuckGo staff. Ask Us Anything!\n",
      "Went on a hike with Hercules and got this photo\n",
      "He tried it...\n",
      "Human Lure [OC]\n",
      "How did you get hired?\n",
      "Fitness tracking app gives away location of secret US army bases\n",
      "MEOW IRL\n",
      "When you reach 100 years old in Barbados, you get a stamp in your honour. Lovely.\n",
      "A girl from my hometown got suspended from school after posting this video to spread awareness of our broken system that deals with bullying. This was made in response to a classmate committing suicide in the week prior to filming this.\n"
     ]
    }
   ],
   "source": [
    "for elem in titles:\n",
    "    print elem.text"
   ]
  },
  {
   "cell_type": "code",
   "execution_count": 320,
   "metadata": {},
   "outputs": [
    {
     "data": {
      "text/plain": [
       "26"
      ]
     },
     "execution_count": 320,
     "metadata": {},
     "output_type": "execute_result"
    }
   ],
   "source": [
    "len(titles)"
   ]
  },
  {
   "cell_type": "markdown",
   "metadata": {},
   "source": [
    "## Write 4 functions to extract title, time, subreddit and number of comments from the HTML info obtained from the webscrape:"
   ]
  },
  {
   "cell_type": "markdown",
   "metadata": {},
   "source": [
    "### FUNCTION TO GET TITLES:"
   ]
  },
  {
   "cell_type": "code",
   "execution_count": 321,
   "metadata": {
    "collapsed": true
   },
   "outputs": [],
   "source": [
    "def get_titles(result):\n",
    "    title_list = []\n",
    "    try:\n",
    "        soup = BeautifulSoup(result, 'lxml')\n",
    "        titles = soup.findAll(\"a\", {\"data-event-action\": \"title\"})\n",
    "        for elem in titles:\n",
    "            title_list.append(elem.text)\n",
    "        return title_list\n",
    "    except:\n",
    "        return title_list"
   ]
  },
  {
   "cell_type": "code",
   "execution_count": 322,
   "metadata": {},
   "outputs": [
    {
     "data": {
      "text/plain": [
       "[u\"Hey Reddit, we've created a special space full of fun, weird and unique items that you probably didn't even know existed on Amazon! Shop our endless finds today!\",\n",
       " u'Rainy days in NYC',\n",
       " u'My dad and I are a great reminder that genetics aren\\u2019t an exact science',\n",
       " u'A gentleman',\n",
       " u'Everything is better with a combat roll.',\n",
       " u'Death and the Dog',\n",
       " u'When you\\u2019re suspended from hogwarts',\n",
       " u'Dan Bilzerian murdered by Diplo',\n",
       " u'The light at the end of the wave.',\n",
       " u'2meirl4meirl',\n",
       " u'Pizza slid out of the box.',\n",
       " u'ENLIGHTENED BOYE',\n",
       " u'TIL during the first combat usage of the American Sidewinder missile in 1958, a dud hit an enemy plane and became lodged without exploding. The pilot returned to base, allowing Soviet engineers to study it and reverse-engineer a nearly identical missile for their own use.',\n",
       " u'On April fools, Snapchat should remove filters from sent pictures so the recipient just gets funny faces.',\n",
       " u'Fitness tracking app gives away location of secret US army bases',\n",
       " u'\"I\\'m prepared to be shot,\" says one protester as Russia\\u2019s youth takes the lead in countrywide protests against Putin.',\n",
       " u'Girl Scouts selling cookies outside of a dispensary.',\n",
       " u\"It's Data Privacy Day 2018! I'm the Founder & CEO of DuckDuckGo, the Internet privacy company, here to answer questions about privacy, with other DuckDuckGo staff. Ask Us Anything!\",\n",
       " u'Went on a hike with Hercules and got this photo',\n",
       " u'He tried it...',\n",
       " u'Human Lure [OC]',\n",
       " u'How did you get hired?',\n",
       " u'Fitness tracking app gives away location of secret US army bases',\n",
       " u'MEOW IRL',\n",
       " u'When you reach 100 years old in Barbados, you get a stamp in your honour. Lovely.',\n",
       " u'A girl from my hometown got suspended from school after posting this video to spread awareness of our broken system that deals with bullying. This was made in response to a classmate committing suicide in the week prior to filming this.']"
      ]
     },
     "execution_count": 322,
     "metadata": {},
     "output_type": "execute_result"
    }
   ],
   "source": [
    "get_titles(html)"
   ]
  },
  {
   "cell_type": "code",
   "execution_count": 323,
   "metadata": {},
   "outputs": [
    {
     "data": {
      "text/plain": [
       "26"
      ]
     },
     "execution_count": 323,
     "metadata": {},
     "output_type": "execute_result"
    }
   ],
   "source": [
    "len(get_titles(html))"
   ]
  },
  {
   "cell_type": "markdown",
   "metadata": {},
   "source": [
    "### FUNCTION TO GET TIMES:"
   ]
  },
  {
   "cell_type": "code",
   "execution_count": 324,
   "metadata": {
    "collapsed": true
   },
   "outputs": [],
   "source": [
    "def get_times(result):\n",
    "    times_list = []\n",
    "    try:\n",
    "        soup = BeautifulSoup(result, 'lxml')\n",
    "        times = soup.findAll(\"time\", {\"class\": \"live-timestamp\"})\n",
    "        for elem in times:\n",
    "            times_list.append(elem.text)\n",
    "        return times_list\n",
    "    except:\n",
    "        return times_list"
   ]
  },
  {
   "cell_type": "code",
   "execution_count": 325,
   "metadata": {},
   "outputs": [
    {
     "data": {
      "text/plain": [
       "[u'5 hours ago',\n",
       " u'4 hours ago',\n",
       " u'4 hours ago',\n",
       " u'4 hours ago',\n",
       " u'3 hours ago',\n",
       " u'4 hours ago',\n",
       " u'6 hours ago',\n",
       " u'5 hours ago',\n",
       " u'6 hours ago',\n",
       " u'5 hours ago',\n",
       " u'5 hours ago',\n",
       " u'7 hours ago',\n",
       " u'5 hours ago',\n",
       " u'6 hours ago',\n",
       " u'8 hours ago',\n",
       " u'7 hours ago',\n",
       " u'3 hours ago',\n",
       " u'8 hours ago',\n",
       " u'7 hours ago',\n",
       " u'5 hours ago',\n",
       " u'7 hours ago',\n",
       " u'7 hours ago',\n",
       " u'7 hours ago',\n",
       " u'8 hours ago',\n",
       " u'8 hours ago']"
      ]
     },
     "execution_count": 325,
     "metadata": {},
     "output_type": "execute_result"
    }
   ],
   "source": [
    "get_times(html)"
   ]
  },
  {
   "cell_type": "code",
   "execution_count": 326,
   "metadata": {},
   "outputs": [
    {
     "data": {
      "text/plain": [
       "25"
      ]
     },
     "execution_count": 326,
     "metadata": {},
     "output_type": "execute_result"
    }
   ],
   "source": [
    "len(get_times(html))"
   ]
  },
  {
   "cell_type": "markdown",
   "metadata": {},
   "source": [
    "### FUNCTION TO GET SUBREDDIT:"
   ]
  },
  {
   "cell_type": "code",
   "execution_count": 327,
   "metadata": {
    "collapsed": true
   },
   "outputs": [],
   "source": [
    "def get_sub(result):\n",
    "    sub_list = []\n",
    "    try:\n",
    "        soup = BeautifulSoup(result, 'lxml')\n",
    "        subs = soup.findAll(\"a\", {\"class\": \"subreddit hover may-blank\"})\n",
    "        for elem in subs:\n",
    "            sub_list.append(elem.text[2:])\n",
    "        return sub_list\n",
    "    except:\n",
    "        return sub_list"
   ]
  },
  {
   "cell_type": "code",
   "execution_count": 328,
   "metadata": {},
   "outputs": [
    {
     "data": {
      "text/plain": [
       "[u'CozyPlaces',\n",
       " u'pics',\n",
       " u'gifs',\n",
       " u'nevertellmetheodds',\n",
       " u'wholesomememes',\n",
       " u'funny',\n",
       " u'MurderedByWords',\n",
       " u'woahdude',\n",
       " u'2meirl4meirl',\n",
       " u'Wellthatsucks',\n",
       " u'rarepuppers',\n",
       " u'todayilearned',\n",
       " u'Showerthoughts',\n",
       " u'news',\n",
       " u'worldnews',\n",
       " u'pics',\n",
       " u'IAmA',\n",
       " u'aww',\n",
       " u'funny',\n",
       " u'comics',\n",
       " u'mildlyinfuriating',\n",
       " u'technology',\n",
       " u'MEOW_IRL',\n",
       " u'pics',\n",
       " u'videos']"
      ]
     },
     "execution_count": 328,
     "metadata": {},
     "output_type": "execute_result"
    }
   ],
   "source": [
    "get_sub(html)"
   ]
  },
  {
   "cell_type": "code",
   "execution_count": 329,
   "metadata": {},
   "outputs": [
    {
     "data": {
      "text/plain": [
       "25"
      ]
     },
     "execution_count": 329,
     "metadata": {},
     "output_type": "execute_result"
    }
   ],
   "source": [
    "len(get_sub(html))"
   ]
  },
  {
   "cell_type": "markdown",
   "metadata": {},
   "source": [
    "### FUNCTION TO GET NUMBER OF COMMENTS:"
   ]
  },
  {
   "cell_type": "code",
   "execution_count": 330,
   "metadata": {
    "collapsed": true
   },
   "outputs": [],
   "source": [
    "def get_comments(result):\n",
    "    comments_list = []\n",
    "    try:\n",
    "        soup = BeautifulSoup(result, 'lxml')\n",
    "        comms = soup.findAll(\"a\", {\"data-event-action\": \"comments\"})\n",
    "        for elem in comms:\n",
    "            comments_list.append(elem.text.split()[0])\n",
    "        return comments_list\n",
    "    except:\n",
    "        return comments_list"
   ]
  },
  {
   "cell_type": "code",
   "execution_count": 331,
   "metadata": {},
   "outputs": [
    {
     "data": {
      "text/plain": [
       "[u'500',\n",
       " u'2310',\n",
       " u'785',\n",
       " u'268',\n",
       " u'586',\n",
       " u'339',\n",
       " u'1222',\n",
       " u'48',\n",
       " u'285',\n",
       " u'519',\n",
       " u'84',\n",
       " u'790',\n",
       " u'211',\n",
       " u'396',\n",
       " u'2507',\n",
       " u'338',\n",
       " u'433',\n",
       " u'202',\n",
       " u'330',\n",
       " u'34',\n",
       " u'157',\n",
       " u'435',\n",
       " u'72',\n",
       " u'1256',\n",
       " u'2215']"
      ]
     },
     "execution_count": 331,
     "metadata": {},
     "output_type": "execute_result"
    }
   ],
   "source": [
    "get_comments(html)"
   ]
  },
  {
   "cell_type": "code",
   "execution_count": 332,
   "metadata": {},
   "outputs": [
    {
     "data": {
      "text/plain": [
       "25"
      ]
     },
     "execution_count": 332,
     "metadata": {},
     "output_type": "execute_result"
    }
   ],
   "source": [
    "len(get_comments(html))"
   ]
  },
  {
   "cell_type": "markdown",
   "metadata": {},
   "source": [
    "## The URL for successive webpages has a predictable pattern:<br>\n",
    "->    www.reddit.com/?count=<font color=blue>X</font>&after=<font color=red>Y</font>\n",
    "## There is a counter that increments by 25 (<font color=blue>X</font>) and also a unique page ID (<font color=red>Y</font>) that came from the previous page. I will set up a function that finds that ID on the currect page and stores it in a variable called last:"
   ]
  },
  {
   "cell_type": "code",
   "execution_count": 333,
   "metadata": {
    "collapsed": true
   },
   "outputs": [],
   "source": [
    "def last_id(soup):\n",
    "    last = soup.find(\"span\", {\"class\":'next-button'}).a['href'][-9:]\n",
    "    return last"
   ]
  },
  {
   "cell_type": "code",
   "execution_count": 334,
   "metadata": {},
   "outputs": [
    {
     "data": {
      "text/plain": [
       "'t3_7tluwk'"
      ]
     },
     "execution_count": 334,
     "metadata": {},
     "output_type": "execute_result"
    }
   ],
   "source": [
    "last_id(soup)"
   ]
  },
  {
   "cell_type": "code",
   "execution_count": 335,
   "metadata": {
    "scrolled": true
   },
   "outputs": [
    {
     "data": {
      "text/plain": [
       "'https://www.reddit.com/?count=25&after=t3_7tluwk'"
      ]
     },
     "execution_count": 335,
     "metadata": {},
     "output_type": "execute_result"
    }
   ],
   "source": [
    "soup.find(\"span\", {\"class\":'next-button'}).a['href']"
   ]
  },
  {
   "cell_type": "code",
   "execution_count": 336,
   "metadata": {},
   "outputs": [
    {
     "data": {
      "text/plain": [
       "'t3_7tluwk'"
      ]
     },
     "execution_count": 336,
     "metadata": {},
     "output_type": "execute_result"
    }
   ],
   "source": [
    "soup.find(\"span\", {\"class\":'next-button'}).a['href'][-9:]"
   ]
  },
  {
   "cell_type": "markdown",
   "metadata": {},
   "source": [
    "## Run a few scrapes in succession to make sure previous page ID number is working correctly using span class to get full next page URL:"
   ]
  },
  {
   "cell_type": "code",
   "execution_count": 337,
   "metadata": {},
   "outputs": [
    {
     "name": "stdout",
     "output_type": "stream",
     "text": [
      "t3_7tln3x\n",
      "http://www.reddit.com/?count=25&after=t3_7tln3x\n",
      "t3_7tl7xm\n",
      "http://www.reddit.com/?count=50&after=t3_7tl7xm\n",
      "t3_7tkh82\n"
     ]
    }
   ],
   "source": [
    "driver = webdriver.Chrome(executable_path='./chromedriver')\n",
    "\n",
    "driver.get('https://www.reddit.com')\n",
    "html = driver.page_source\n",
    "soup = BeautifulSoup(html, 'lxml')\n",
    "lastid = soup.find(\"span\", {\"class\":'next-button'}).a['href'][-9:]\n",
    "print lastid\n",
    "\n",
    "url = 'http://www.reddit.com/?count={}&after={}'.format(25, lastid)\n",
    "print url\n",
    "\n",
    "driver = webdriver.Chrome(executable_path='./chromedriver')\n",
    "driver.get(url)\n",
    "html = driver.page_source\n",
    "soup = BeautifulSoup(html, 'lxml')\n",
    "lastid = soup.find(\"span\", {\"class\":'next-button'}).a['href'][-9:]\n",
    "print lastid\n",
    "\n",
    "url = 'http://www.reddit.com/?count={}&after={}'.format(50, lastid)\n",
    "print url\n",
    "\n",
    "driver = webdriver.Chrome(executable_path='./chromedriver')\n",
    "driver.get(url)\n",
    "html = driver.page_source\n",
    "soup = BeautifulSoup(html, 'lxml')\n",
    "lastid = soup.find(\"span\", {\"class\":'next-button'}).a['href'][-9:]\n",
    "print lastid"
   ]
  },
  {
   "cell_type": "markdown",
   "metadata": {},
   "source": [
    "## Try out last_id function inside of a 25 count loop to generate scrapes of successive pages:"
   ]
  },
  {
   "cell_type": "code",
   "execution_count": 338,
   "metadata": {
    "scrolled": true
   },
   "outputs": [
    {
     "name": "stdout",
     "output_type": "stream",
     "text": [
      "t3_7tnibk\n",
      "http://www.reddit.com/?count=25&after=t3_7tnibk\n",
      "t3_7tl7xm\n",
      "25\n",
      "http://www.reddit.com/?count=50&after=t3_7tl7xm\n",
      "t3_7tkh82\n",
      "50\n",
      "http://www.reddit.com/?count=75&after=t3_7tkh82\n",
      "t3_7tk5nl\n",
      "75\n",
      "http://www.reddit.com/?count=100&after=t3_7tk5nl\n",
      "t3_7tlg5c\n",
      "100\n",
      "http://www.reddit.com/?count=125&after=t3_7tlg5c\n",
      "t3_7tke3u\n",
      "125\n",
      "http://www.reddit.com/?count=150&after=t3_7tke3u\n",
      "t3_7tjvyp\n",
      "150\n",
      "http://www.reddit.com/?count=175&after=t3_7tjvyp\n",
      "t3_7tm7li\n",
      "175\n"
     ]
    }
   ],
   "source": [
    "from selenium import webdriver\n",
    "import time\n",
    "\n",
    "max_results = 200 \n",
    "\n",
    "results = []\n",
    "titles = []\n",
    "\n",
    "driver = webdriver.Chrome(executable_path='./chromedriver')\n",
    "driver.get('https://www.reddit.com')\n",
    "html = driver.page_source\n",
    "soup = BeautifulSoup(html, 'lxml')\n",
    "lastid = last_id(soup)\n",
    "print lastid\n",
    "for i in range(25, max_results, 25):\n",
    "    url = \"http://www.reddit.com/?count={}&after={}\".format(i, lastid)\n",
    "    print url\n",
    "    driver.get(url)\n",
    "    html = driver.page_source\n",
    "    soup = BeautifulSoup(html, 'lxml')\n",
    "    titles.append(get_titles(html))\n",
    "    lastid = last_id(soup)\n",
    "    print lastid\n",
    "    print i\n",
    "    time.sleep(3)\n"
   ]
  },
  {
   "cell_type": "code",
   "execution_count": 345,
   "metadata": {},
   "outputs": [
    {
     "data": {
      "text/plain": [
       "7"
      ]
     },
     "execution_count": 345,
     "metadata": {},
     "output_type": "execute_result"
    }
   ],
   "source": [
    "len(titles)"
   ]
  },
  {
   "cell_type": "code",
   "execution_count": 340,
   "metadata": {},
   "outputs": [
    {
     "data": {
      "text/plain": [
       "[[u\"Hey Reddit, we've created a special space full of fun, weird and unique items that you probably didn't even know existed on Amazon! Shop our endless finds today!\",\n",
       "  u'When you reach 100 years old in Barbados, you get a stamp in your honour. Lovely.',\n",
       "  u'A girl from my hometown got suspended from school after posting this video to spread awareness of our broken system that deals with bullying. This was made in response to a classmate committing suicide in the week prior to filming this.',\n",
       "  u'Always check to make sure you switched to your alt',\n",
       "  u\"An 8 year old's microbiological handprint after playing outside\",\n",
       "  u'China\\u2019s latest energy megaproject shows that coal really is on the way out: The Chinese province of Anhui built a massive floating solar farm on top of an abandoned coal mine. An even larger floating solar plant will come online by May 2018.',\n",
       "  u\"and that's the way it goes\",\n",
       "  u'Early morning on Kauai, Hawaii [OC] [3242x4752]',\n",
       "  u'Hector v Dragon with FE7 animations',\n",
       "  u'Nails it',\n",
       "  u'imagine if this guy could talk \\u2744\\ufe0f\\u2744\\ufe0f\\u2744\\ufe0f',\n",
       "  u'John Wick alternate ending.',\n",
       "  u\"MRW I'm a delivery driver for CVS Prime Now and a customer asks for a receipt upon delivery and they also want to tip me but I'm not allowed to accept cash tips so he tries to chase me down and forcibly tip me but I am too swift\",\n",
       "  u'New species of Dinosaur',\n",
       "  u'MRW Your need to update old gifs to fit in',\n",
       "  u'Little fox doing a nom',\n",
       "  u'Becoming the human stand',\n",
       "  u'He stares at me like this for the entire car ride.',\n",
       "  u'ELI5: If you try and speak in really strong wind, are your words literally being \"blown away\" or can people just not hear you due to the wind noise?',\n",
       "  u'Synchronized doggo style',\n",
       "  u'Sister and Unsung Brotherhood',\n",
       "  u\"In order to get the lowest lease price possible, you must learn how to calculate a lease. Here's a long and in-depth guide to how leasing works, plus real world examples from my most recent lease.\",\n",
       "  u'me irl',\n",
       "  u'Out of food?',\n",
       "  u'This doorknob at a pediatrician\\u2019s office is high enough to keep children from reaching it.',\n",
       "  u'Me Too.'],\n",
       " [u\"Hey Reddit, we've created a special space full of fun, weird and unique items that you probably didn't even know existed on Amazon! Shop our endless finds today!\",\n",
       "  u'bunny in a bunny bed',\n",
       "  u'My boyfriend found these two on his construction site all alone, now they have a new home. Meet Baxter and Athena!',\n",
       "  u'HMJB while I stick the landing',\n",
       "  u'Tourists in the 1920s before Cairo expanded look across the Sahara Desert from the top of the Pyramid of Cheops at sunset.',\n",
       "  u'Canadian gangs are getting outta hand!',\n",
       "  u'Can\\u2019t you read the sign!?',\n",
       "  u'Orangutan',\n",
       "  u\"A house buying show where the buyers are millennials and they can't afford any of the houses\",\n",
       "  u'Rare footage of interviews with elderly people in the United States including Civil War veterans and a woman who witnessed the Trail of Tears recorded in 1929.',\n",
       "  u\"Closeup image I shot of the RD-180 engine and AJ-60A solid rocket booster powering last week's Atlas V launch\",\n",
       "  u'When the death sticks start to hit',\n",
       "  u'The desks and chairs also stood up and clapped',\n",
       "  u'When you see a video of an dog owner playing dead and his dog tried to save him so you try it with your dog too',\n",
       "  u'Picky Anakin',\n",
       "  u'My mom falls for this every time I come home ME: I was just listening to the radio on my way in to town, apparently an actress just killed herself.',\n",
       "  u'Subway staredown',\n",
       "  u'Someone put Ken M as the best yoga instructor in Madison, WI',\n",
       "  u'After surviving severe neglect, heartworm and mange, Waffle still has a heart of gold and loves everyone she meets. She makes us smile everyday!',\n",
       "  u'Posse of cats',\n",
       "  u'Hitcat confirms kill on target',\n",
       "  u'Perhaps because her warranty doesn\\u2019t cover porn stars.',\n",
       "  u'Railway replacement services',\n",
       "  u'woof irl',\n",
       "  u'Game ended at the \\u201cO\\u201d in Tomato Town. Thought this was cool.',\n",
       "  u'Skipping stone'],\n",
       " [u\"Hey Reddit, we've created a special space full of fun, weird and unique items that you probably didn't even know existed on Amazon! Shop our endless finds today!\",\n",
       "  u'4269 upvotes and I\\u2019ll make a comprehensive guide on how to mine like a professional',\n",
       "  u\"Taking credit for a black man's work as usual\",\n",
       "  u'Au Bon March\\xe9, Paris [2953x2747]',\n",
       "  u'A year ago I found this girl going through the garbage on -1\\xb0C. Today she\\u2019s my companion while I\\u2019m studying. Reddit, this is Princess Leia',\n",
       "  u'Totally caught my buddy off guard',\n",
       "  u'To Make Railroads Safe',\n",
       "  u'\\u201cThis bitch just pet me?\\u201d Such a superbowl',\n",
       "  u'I guess my taste in shoes now dictates if I\\u2019m a man or not',\n",
       "  u'There are no winners',\n",
       "  u'Remastered',\n",
       "  u'Swanson Medical History',\n",
       "  u'PsBattle: This extremely blue eyed puppy',\n",
       "  u\"a Redditor explains how the last 8 years everyone has thought we are on a stock market bubble that is ready to burst, so it's best to not try to time the market. Examples are given with links to comments at each 1,000 point interval from the Dow.\",\n",
       "  u'LPT: Before checking in at the airport. take a photograph of your luggage. A picture is worth a thousand words if your bag gets lost!',\n",
       "  u'gottem',\n",
       "  u'I wish I could be as photogenic as her...',\n",
       "  u'What is something you can do that feels instantly great?',\n",
       "  u'Happy little shadow monster',\n",
       "  u'r\\u035d\\u0489\\u034f\\u0347\\u033c\\u0359\\u033c\\u0348\\u031f\\u032c\\u0339\\u032a\\u032d\\u033b\\u0345\\u032ee\\u0360\\u0335\\u032d\\u032d\\u0323\\u0319\\u0329\\u033b\\u0316\\u034e\\u033b\\u0320\\u0323\\u0354\\u0356\\u0326\\u0323\\u032f\\u032e\\u032c\\u032am\\u0335\\u034f\\u0327\\u032f\\u0317\\u0332\\u0320\\u0329\\u031do\\u0334\\u0336\\u0358\\u0361\\u0324\\u033a\\u0318\\u032f\\u0345v\\u0336\\u0322\\u0328\\u0334\\u0489\\u0354\\u0333\\u033b\\u0354\\u0332e\\u0361\\u0340\\u0315\\u0320\\u0339\\u0330\\u0319\\u0359 \\u0335\\u0361\\u0334\\u0329\\u0316\\u032c\\u0326\\u0332\\u0329\\u031d\\u0359\\u0325t\\u034f\\u035d\\u035c\\u0334\\u0315\\u0331\\u0333\\u0331\\u0330\\u0331\\u032a\\u0332\\u031f\\u031e\\u0317\\u032f\\u0339\\u0354\\u0317\\u0345\\u0318h\\u0360\\u032a\\u0324\\u0332\\u031d\\u033a\\u0316\\u031d\\u0319\\u032b\\u032f\\u031f\\u033c\\u034e\\u032be\\u035d\\u0353\\u0323\\u031c\\u0324\\u034d\\u0354\\u032c \\u035f\\u0360\\u0334\\u0358\\u035e\\u031d\\u031e\\u033b\\u034ee\\u031b\\u0362\\u0341\\u0347\\u0324\\u033a\\u032b\\u031d\\u0316\\u0332\\u033c\\u0339\\u033b\\u0325\\u0332\\u0319\\u032f\\u0331\\u0331\\u0316a\\u0315\\u0315\\u0322\\u0358\\u035c\\u0316\\u032b\\u034d\\u033b\\u0332\\u031d\\u0324\\u0353\\u0323\\u0330r\\u035c\\u0489\\u0361\\u0356\\u0324\\u0323\\u0356\\u0317\\u033a\\u0345\\u032a\\u0354\\u0331\\u0318\\u0356\\u0354\\u0339\\u032a\\u033c\\u0354s\\u034f\\u035d\\u034f\\u032a\\u0332\\u0345\\u0356\\u031f\\u0330\\u0354',\n",
       "  u'Poor Jonno',\n",
       "  u'Its a pillow, its a pet, its 8 years later & im full of regret',\n",
       "  u'Mayonnaise',\n",
       "  u'No more parties in LA',\n",
       "  u'hmmm',\n",
       "  u'An unknown Rage Against The Machine play their unreleased debut album in a tiny record store. So. Much. Power.'],\n",
       " [u'TIL: 2 MIT grads built an algorithm that uses a 7 question quiz to pair people with wine they\\'ll like. It has questions like \"what\\'s your favorite chocolate\". Take the quiz to see your matches.',\n",
       "  u'Engineer who lived modestly donates $37 million to Pittsburgh Foundation. Mr. Suckling\\u2019s bequest, will benefit the Sewickley Public Library, the Heritage Valley Health System in Sewickley, and nonprofits and programs in the Sewickley region that help low-income youth and families.',\n",
       "  u'Guess I should include this on my resume',\n",
       "  u'Went out to buy furniture for the house, instead came home with this fluff ball.',\n",
       "  u'Communist Church Vanifesto',\n",
       "  u'TIL of physicist Lene Hau, who in 1999 led a team at Harvard University that was able to slow down a beam of light to 38mph and in 2001 they successfully stopped a beam of light.',\n",
       "  u'Rolling colors into silicone',\n",
       "  u'If you place a humidifier and a dehumidifier in the same room you can wirelessly transmit water',\n",
       "  u'Don\\u2019t never give up',\n",
       "  u'With the Superbowl next week let us not forget',\n",
       "  u'The founder of IKEA and one of the greatest design thinkers of the 20th century has passed away',\n",
       "  u'Improved aglio e olio from Scarlett Johansson scene',\n",
       "  u'Let me look into the barrel, WCGW?',\n",
       "  u'My Pup and I, Circa 1988',\n",
       "  u'Death and the dog',\n",
       "  u'They both love their human stand',\n",
       "  u'Dog lowers window for locked out owner (from r/animalsbeingbros)',\n",
       "  u\"Sony's 'Venom' Has Wrapped Filming\",\n",
       "  u'Haha',\n",
       "  u'Dominos is my favorite pizza place',\n",
       "  u'Frozen Blue Minnehaha Falls. [6000\\xd74000] [OC]',\n",
       "  u'My boyfriend and I adopted this little goofball back in December, and I finally have an interesting subject to photography \\u2665',\n",
       "  u'The AV Club Squad',\n",
       "  u\"TIL that Ikea's founder, the late billionare Ingvar Kamprad, was incredibly frugal: He disciplines his employees for not using both sides of the paper. He was once turned away from Businessman Of The Year Award for arriving by bus, and assembled all his furniture himself.\",\n",
       "  u'My Grandma\\u2019s photo Stand-In she made for her retirement community\\u2019s Luau',\n",
       "  u'\"my teammates are holding me back\"'],\n",
       " [u\"Deal Today, Gone Tomorrow - Don't miss out on today's Deal of the Day and other major savings before they're gone!\",\n",
       "  u'The Girl with the Vegan Tattoo.',\n",
       "  u\"The Fake News Media doesn't want you to know about the drastic turnaround in black unemployment brought about by President Trump's policies! Just look at this graph!\",\n",
       "  u'Let me help you up there.',\n",
       "  u\"Gimme a bowl cut, but don't mess with my rattail.\",\n",
       "  u'Russian opposition leader Alexei Navalny detained by police at Moscow rally (Navalny on Twitter)',\n",
       "  u'Endearing yet creepy.',\n",
       "  u'Jon Arbuckle: The original mad lad',\n",
       "  u'Batman',\n",
       "  u'Go away now. Shoo.',\n",
       "  u'Suplex & chill',\n",
       "  u\"Iceland's elephant mountain \\U0001f525\",\n",
       "  u'Dexter is finally old enough to come home.',\n",
       "  u'A little humor for today',\n",
       "  u'\\u2018Saturday Night Live\\u2019 Ratings Hit Season Highs With Host Will Ferrell',\n",
       "  u'I\\u2019m one year on Estrogen!!! I never thought I\\u2019d be where I am rn and it\\u2019s only going to get better from here! (She/They)',\n",
       "  u'Modern Celica & Camilla',\n",
       "  u'Annoying trend in indie games',\n",
       "  u'My father in law built and painted a gremlin',\n",
       "  u'Told them to write joke on each box...',\n",
       "  u'Where the Sidewalk Ends',\n",
       "  u\"TIL Researchers at King's College London found that the drug Tideglusib stimulates the stem cells contained in the pulp of teeth so that they generate new dentine \\u2013 the mineralised material under the enamel.\",\n",
       "  u'Perfect Timing',\n",
       "  u'Posted by a 45+ man',\n",
       "  u'The WWE Royal Rumble takes place live in Philadelphia tonight. Hoping we\\u2019ll get a surprise run-in from a local indie talent.',\n",
       "  u'Homemade Poutine (we made the fries, gravy and curds) [OC] [5344x3006]'],\n",
       " [u'TIL: 2 MIT grads built a wine algorithm to match their taste buds to wine so they could optimize their wine budget. You can take the quiz on their website and see what wines you match to.',\n",
       "  u'Eminem being honored by Obama for his diss against Trump. (2017 Colorized)',\n",
       "  u'\\U0001f171\\ufe0flastoise',\n",
       "  u'Ford GT [1036 x 1536]',\n",
       "  u'Sweet victory',\n",
       "  u'The other side of Mount Rushmore',\n",
       "  u'This keeps me up at night',\n",
       "  u'Using a two-horn listening device at Bolling Field in Washington, D.C., in 1921 before the invention of radar, to listen for distant aircraft. [1500x1064]',\n",
       "  u'America First',\n",
       "  u'JUSTICE FROM ABOVE',\n",
       "  u'Laser show.',\n",
       "  u'When the phone overheats',\n",
       "  u'O\\U0001f171AMA',\n",
       "  u'[homemade] 36 hour sous vide beef brisket',\n",
       "  u'I love drivers like these',\n",
       "  u'Got my first cat yesterday. Reddit, meet Sprout!',\n",
       "  u'19th century British fuckboy starter pack',\n",
       "  u'Self drafted New Years dress. And I\\u2019m only a month late!',\n",
       "  u'Men had enough fentanyl to kill entire population of New York City, New Jersey combined, police say',\n",
       "  u'Outrunning a subway in POV',\n",
       "  u'Dog lowers windows after owner gets locked out outside the car',\n",
       "  u'No one can know',\n",
       "  u'3 former Conservative cabinet ministers have been caught selling Brexit information to a fake Chinese company',\n",
       "  u'Tada',\n",
       "  u'Calling the Parents (@VectorBelly)',\n",
       "  u'Posted by Netflix on Instagram'],\n",
       " [u\"There is no shame in getting help. Talk to an online therapist tonight. You're worth it.\",\n",
       "  u'My mums Haworthia Zebra plant, she has no idea how long it\\u2019s been growing but it\\u2019s flowered for the past 2/3 years. We\\u2019re finally removing it from this container tomorrow',\n",
       "  u'My friend crocheted 336 granny squares to make this for her son.',\n",
       "  u\"I was gonna make fun of his name, but I'll leave that for another day\",\n",
       "  u'[Celeste] Not pictured: the 857 deaths it took over those two hours to finish this C-Side.',\n",
       "  u'Shirley was the best.',\n",
       "  u'Trump Warns Removing Confederate Statues Could Be Slippery Slope To Eliminating Racism Entirely',\n",
       "  u'Anon Helps the Elderly',\n",
       "  u\"'Blade Runner 2049,' 'Logan,' 'Shape of Water' Top Art Directors Guild Awards\",\n",
       "  u'Fleeing idiot criminal gets caught by the police.',\n",
       "  u'My Backyard in Fairfield, CT. (2448x2448) [OC]',\n",
       "  u'My great grandmother turned 100 on Thursday - She lives at home, reads the bible without glasses and supplies the whole family with socks.',\n",
       "  u'Heard that devs here listen players so i made this new map concept! Comment below what u think!',\n",
       "  u'Back in the day they would wash kids mouths out with soap to stop them from swearing. Now we have to swear at them to stop them from washing their mouths out with soap!',\n",
       "  u'Free treats for everyone!!',\n",
       "  u'This is why ill never have kids.',\n",
       "  u'Why? Why? Why?',\n",
       "  u'Happy Birthday Frodo',\n",
       "  u'A miracle indeed (cropped properly)',\n",
       "  u'Felt like an eternity this month',\n",
       "  u'Goodbye gas, hello future',\n",
       "  u'\"Not this one, I like this one.\"',\n",
       "  u'So I showed my grandma this subreddit.....',\n",
       "  u\"The nurse at the sperm bank asked me if I'd like to masturbate in the cup...\",\n",
       "  u'A calculated crime',\n",
       "  u'She didn\\u2019t have to do my dog like that']]"
      ]
     },
     "execution_count": 340,
     "metadata": {},
     "output_type": "execute_result"
    }
   ],
   "source": [
    "titles"
   ]
  },
  {
   "cell_type": "code",
   "execution_count": 341,
   "metadata": {
    "scrolled": true
   },
   "outputs": [
    {
     "name": "stdout",
     "output_type": "stream",
     "text": [
      "[u\"There is no shame in getting help. Talk to an online therapist tonight. You're worth it.\", u'My mums Haworthia Zebra plant, she has no idea how long it\\u2019s been growing but it\\u2019s flowered for the past 2/3 years. We\\u2019re finally removing it from this container tomorrow', u'My friend crocheted 336 granny squares to make this for her son.', u\"I was gonna make fun of his name, but I'll leave that for another day\", u'[Celeste] Not pictured: the 857 deaths it took over those two hours to finish this C-Side.', u'Shirley was the best.', u'Trump Warns Removing Confederate Statues Could Be Slippery Slope To Eliminating Racism Entirely', u'Anon Helps the Elderly', u\"'Blade Runner 2049,' 'Logan,' 'Shape of Water' Top Art Directors Guild Awards\", u'Fleeing idiot criminal gets caught by the police.', u'My Backyard in Fairfield, CT. (2448x2448) [OC]', u'My great grandmother turned 100 on Thursday - She lives at home, reads the bible without glasses and supplies the whole family with socks.', u'Heard that devs here listen players so i made this new map concept! Comment below what u think!', u'Back in the day they would wash kids mouths out with soap to stop them from swearing. Now we have to swear at them to stop them from washing their mouths out with soap!', u'Free treats for everyone!!', u'This is why ill never have kids.', u'Why? Why? Why?', u'Happy Birthday Frodo', u'A miracle indeed (cropped properly)', u'Felt like an eternity this month', u'Goodbye gas, hello future', u'\"Not this one, I like this one.\"', u'So I showed my grandma this subreddit.....', u\"The nurse at the sperm bank asked me if I'd like to masturbate in the cup...\", u'A calculated crime', u'She didn\\u2019t have to do my dog like that']\n"
     ]
    }
   ],
   "source": [
    "print get_titles(html)"
   ]
  },
  {
   "cell_type": "code",
   "execution_count": 346,
   "metadata": {},
   "outputs": [
    {
     "data": {
      "text/plain": [
       "26"
      ]
     },
     "execution_count": 346,
     "metadata": {},
     "output_type": "execute_result"
    }
   ],
   "source": [
    "len(titles[0])"
   ]
  },
  {
   "cell_type": "markdown",
   "metadata": {},
   "source": [
    "## While I was able to obtain repetitive scrapes of Reddit.com to gather the necessary data for my models, I've noticed a problem.  My scrapes are gathering info for 25 times, subreddits and comment counts, however, the scrapes are generating lists of 26 titles.  This will not be suitable for a DataFrame structure.  For the sake of time, I will use a .csv file containing HTML scrapes of over 5000 posts. (Sourced by: Sophie Tabac)"
   ]
  },
  {
   "cell_type": "markdown",
   "metadata": {},
   "source": [
    "# <div class=\"alert alert-block alert-info\">STEP 3: Look at data and perform any EDA to prepare for modeling:</div>"
   ]
  },
  {
   "cell_type": "markdown",
   "metadata": {},
   "source": [
    "### Import needed programming modules and import/convert .csv data to DataFrame data type.  Look at sample of data and attributes:"
   ]
  },
  {
   "cell_type": "code",
   "execution_count": 2,
   "metadata": {
    "collapsed": true,
    "focus": false,
    "id": "588f9845-6143-4bcc-bfd1-85d45b79303d"
   },
   "outputs": [],
   "source": [
    "import pandas as pd\n",
    "import numpy as np\n",
    "\n",
    "import matplotlib.pyplot as plt\n",
    "\n",
    "import seaborn as sns\n",
    "\n",
    "plt.style.use('fivethirtyeight')\n",
    "\n",
    "%matplotlib inline\n",
    "%config InlineBackend.figure_format = 'retina'"
   ]
  },
  {
   "cell_type": "code",
   "execution_count": 3,
   "metadata": {
    "collapsed": true
   },
   "outputs": [],
   "source": [
    "reddit = pd.read_csv('./datasets/reddit_scrape.csv')"
   ]
  },
  {
   "cell_type": "code",
   "execution_count": 4,
   "metadata": {},
   "outputs": [
    {
     "data": {
      "text/html": [
       "<div>\n",
       "<style>\n",
       "    .dataframe thead tr:only-child th {\n",
       "        text-align: right;\n",
       "    }\n",
       "\n",
       "    .dataframe thead th {\n",
       "        text-align: left;\n",
       "    }\n",
       "\n",
       "    .dataframe tbody tr th {\n",
       "        vertical-align: top;\n",
       "    }\n",
       "</style>\n",
       "<table border=\"1\" class=\"dataframe\">\n",
       "  <thead>\n",
       "    <tr style=\"text-align: right;\">\n",
       "      <th></th>\n",
       "      <th>Unnamed: 0</th>\n",
       "      <th>created_at</th>\n",
       "      <th>id</th>\n",
       "      <th>num_comments</th>\n",
       "      <th>subreddit</th>\n",
       "      <th>time_delta</th>\n",
       "      <th>time_now</th>\n",
       "      <th>title</th>\n",
       "      <th>upvotes</th>\n",
       "    </tr>\n",
       "  </thead>\n",
       "  <tbody>\n",
       "    <tr>\n",
       "      <th>0</th>\n",
       "      <td>0</td>\n",
       "      <td>2018-01-22 16:36:35</td>\n",
       "      <td>470616764</td>\n",
       "      <td>1153</td>\n",
       "      <td>gifs</td>\n",
       "      <td>0 days 04:24:57.883078000</td>\n",
       "      <td>2018-01-22 21:01:32.883070</td>\n",
       "      <td>Finnish ski jumping team</td>\n",
       "      <td>86005</td>\n",
       "    </tr>\n",
       "    <tr>\n",
       "      <th>1</th>\n",
       "      <td>1</td>\n",
       "      <td>2018-01-22 16:37:28</td>\n",
       "      <td>470617063</td>\n",
       "      <td>238</td>\n",
       "      <td>pics</td>\n",
       "      <td>0 days 04:24:04.883093000</td>\n",
       "      <td>2018-01-22 21:01:32.883092</td>\n",
       "      <td>Super excited about motherhood</td>\n",
       "      <td>20336</td>\n",
       "    </tr>\n",
       "  </tbody>\n",
       "</table>\n",
       "</div>"
      ],
      "text/plain": [
       "   Unnamed: 0           created_at         id  num_comments subreddit  \\\n",
       "0           0  2018-01-22 16:36:35  470616764          1153      gifs   \n",
       "1           1  2018-01-22 16:37:28  470617063           238      pics   \n",
       "\n",
       "                  time_delta                    time_now  \\\n",
       "0  0 days 04:24:57.883078000  2018-01-22 21:01:32.883070   \n",
       "1  0 days 04:24:04.883093000  2018-01-22 21:01:32.883092   \n",
       "\n",
       "                            title  upvotes  \n",
       "0        Finnish ski jumping team    86005  \n",
       "1  Super excited about motherhood    20336  "
      ]
     },
     "execution_count": 4,
     "metadata": {},
     "output_type": "execute_result"
    }
   ],
   "source": [
    "reddit.head(2)"
   ]
  },
  {
   "cell_type": "code",
   "execution_count": 5,
   "metadata": {},
   "outputs": [
    {
     "data": {
      "text/plain": [
       "(5567, 9)"
      ]
     },
     "execution_count": 5,
     "metadata": {},
     "output_type": "execute_result"
    }
   ],
   "source": [
    "reddit.shape"
   ]
  },
  {
   "cell_type": "code",
   "execution_count": 6,
   "metadata": {},
   "outputs": [
    {
     "data": {
      "text/plain": [
       "5405"
      ]
     },
     "execution_count": 6,
     "metadata": {},
     "output_type": "execute_result"
    }
   ],
   "source": [
    "len(reddit['title'].unique())"
   ]
  },
  {
   "cell_type": "markdown",
   "metadata": {},
   "source": [
    "#### There are 5567 rows of data, but only 5405 unique posts. Duplicates have occured through webscraping. Duplicates will be dropped:"
   ]
  },
  {
   "cell_type": "code",
   "execution_count": 7,
   "metadata": {
    "collapsed": true
   },
   "outputs": [],
   "source": [
    "reddit.drop_duplicates(subset='title', keep='first', inplace=True)"
   ]
  },
  {
   "cell_type": "code",
   "execution_count": 8,
   "metadata": {},
   "outputs": [
    {
     "data": {
      "text/plain": [
       "(5405, 9)"
      ]
     },
     "execution_count": 8,
     "metadata": {},
     "output_type": "execute_result"
    }
   ],
   "source": [
    "reddit.shape"
   ]
  },
  {
   "cell_type": "markdown",
   "metadata": {},
   "source": [
    "#### DataFrame is pared down to only the 5405 unique entries."
   ]
  },
  {
   "cell_type": "markdown",
   "metadata": {},
   "source": [
    "## Let's look at number of comments and split the data for this column into a binary: 1 if number is more than the median and 0 if it is less"
   ]
  },
  {
   "cell_type": "code",
   "execution_count": 9,
   "metadata": {
    "scrolled": true
   },
   "outputs": [
    {
     "data": {
      "image/png": "[encoded data removed]",
      "text/plain": [
       "<matplotlib.figure.Figure at 0x103e37e50>"
      ]
     },
     "metadata": {
      "image/png": {
       "height": 260,
       "width": 444
      }
     },
     "output_type": "display_data"
    }
   ],
   "source": [
    "ax = sns.countplot(x=\"num_comments\", data=reddit)"
   ]
  },
  {
   "cell_type": "code",
   "execution_count": 10,
   "metadata": {
    "focus": false,
    "id": "c20d2498-151c-44c3-a453-3a333c79a0ac"
   },
   "outputs": [
    {
     "name": "stdout",
     "output_type": "stream",
     "text": [
      "Comments median is:  15.0\n",
      "Comments mean is:  67.73\n"
     ]
    }
   ],
   "source": [
    "comm_mean = reddit['num_comments'].mean()\n",
    "comm_median = reddit['num_comments'].median()\n",
    "print 'Comments median is: ', comm_median\n",
    "print 'Comments mean is: ', round(comm_mean,2)"
   ]
  },
  {
   "cell_type": "code",
   "execution_count": 11,
   "metadata": {
    "collapsed": true
   },
   "outputs": [],
   "source": [
    "reddit['comm_range'] = [1 if x > comm_median else 0 for x in reddit['num_comments']]"
   ]
  },
  {
   "cell_type": "code",
   "execution_count": 12,
   "metadata": {},
   "outputs": [
    {
     "data": {
      "text/plain": [
       "0    2755\n",
       "1    2650\n",
       "Name: comm_range, dtype: int64"
      ]
     },
     "execution_count": 12,
     "metadata": {},
     "output_type": "execute_result"
    }
   ],
   "source": [
    "reddit['comm_range'].value_counts()"
   ]
  },
  {
   "cell_type": "markdown",
   "metadata": {},
   "source": [
    "### Let's look at number of posts that each subreddit had:"
   ]
  },
  {
   "cell_type": "code",
   "execution_count": 13,
   "metadata": {
    "scrolled": true
   },
   "outputs": [
    {
     "data": {
      "text/html": [
       "<div>\n",
       "<style>\n",
       "    .dataframe thead tr:only-child th {\n",
       "        text-align: right;\n",
       "    }\n",
       "\n",
       "    .dataframe thead th {\n",
       "        text-align: left;\n",
       "    }\n",
       "\n",
       "    .dataframe tbody tr th {\n",
       "        vertical-align: top;\n",
       "    }\n",
       "</style>\n",
       "<table border=\"1\" class=\"dataframe\">\n",
       "  <thead>\n",
       "    <tr style=\"text-align: right;\">\n",
       "      <th></th>\n",
       "      <th>subreddit</th>\n",
       "    </tr>\n",
       "  </thead>\n",
       "  <tbody>\n",
       "    <tr>\n",
       "      <th>DDLC</th>\n",
       "      <td>90</td>\n",
       "    </tr>\n",
       "    <tr>\n",
       "      <th>aww</th>\n",
       "      <td>87</td>\n",
       "    </tr>\n",
       "    <tr>\n",
       "      <th>funny</th>\n",
       "      <td>84</td>\n",
       "    </tr>\n",
       "    <tr>\n",
       "      <th>eagles</th>\n",
       "      <td>76</td>\n",
       "    </tr>\n",
       "    <tr>\n",
       "      <th>reddevils</th>\n",
       "      <td>75</td>\n",
       "    </tr>\n",
       "    <tr>\n",
       "      <th>todayilearned</th>\n",
       "      <td>50</td>\n",
       "    </tr>\n",
       "    <tr>\n",
       "      <th>Patriots</th>\n",
       "      <td>48</td>\n",
       "    </tr>\n",
       "    <tr>\n",
       "      <th>PewdiepieSubmissions</th>\n",
       "      <td>47</td>\n",
       "    </tr>\n",
       "    <tr>\n",
       "      <th>PrequelMemes</th>\n",
       "      <td>43</td>\n",
       "    </tr>\n",
       "    <tr>\n",
       "      <th>memes</th>\n",
       "      <td>42</td>\n",
       "    </tr>\n",
       "    <tr>\n",
       "      <th>CryptoCurrency</th>\n",
       "      <td>41</td>\n",
       "    </tr>\n",
       "    <tr>\n",
       "      <th>AskReddit</th>\n",
       "      <td>40</td>\n",
       "    </tr>\n",
       "    <tr>\n",
       "      <th>tumblr</th>\n",
       "      <td>40</td>\n",
       "    </tr>\n",
       "    <tr>\n",
       "      <th>FortNiteBR</th>\n",
       "      <td>40</td>\n",
       "    </tr>\n",
       "    <tr>\n",
       "      <th>gaming</th>\n",
       "      <td>39</td>\n",
       "    </tr>\n",
       "    <tr>\n",
       "      <th>mildlyinteresting</th>\n",
       "      <td>38</td>\n",
       "    </tr>\n",
       "    <tr>\n",
       "      <th>rupaulsdragrace</th>\n",
       "      <td>37</td>\n",
       "    </tr>\n",
       "    <tr>\n",
       "      <th>pics</th>\n",
       "      <td>36</td>\n",
       "    </tr>\n",
       "    <tr>\n",
       "      <th>CringeAnarchy</th>\n",
       "      <td>35</td>\n",
       "    </tr>\n",
       "    <tr>\n",
       "      <th>BlackPeopleTwitter</th>\n",
       "      <td>34</td>\n",
       "    </tr>\n",
       "    <tr>\n",
       "      <th>worldnews</th>\n",
       "      <td>34</td>\n",
       "    </tr>\n",
       "    <tr>\n",
       "      <th>Tinder</th>\n",
       "      <td>33</td>\n",
       "    </tr>\n",
       "    <tr>\n",
       "      <th>MMA</th>\n",
       "      <td>31</td>\n",
       "    </tr>\n",
       "    <tr>\n",
       "      <th>minnesotavikings</th>\n",
       "      <td>30</td>\n",
       "    </tr>\n",
       "    <tr>\n",
       "      <th>videos</th>\n",
       "      <td>28</td>\n",
       "    </tr>\n",
       "    <tr>\n",
       "      <th>smashbros</th>\n",
       "      <td>27</td>\n",
       "    </tr>\n",
       "    <tr>\n",
       "      <th>gifs</th>\n",
       "      <td>27</td>\n",
       "    </tr>\n",
       "    <tr>\n",
       "      <th>news</th>\n",
       "      <td>26</td>\n",
       "    </tr>\n",
       "    <tr>\n",
       "      <th>PoliticalHumor</th>\n",
       "      <td>26</td>\n",
       "    </tr>\n",
       "    <tr>\n",
       "      <th>de</th>\n",
       "      <td>24</td>\n",
       "    </tr>\n",
       "    <tr>\n",
       "      <th>...</th>\n",
       "      <td>...</td>\n",
       "    </tr>\n",
       "    <tr>\n",
       "      <th>OnOffCelebs</th>\n",
       "      <td>1</td>\n",
       "    </tr>\n",
       "    <tr>\n",
       "      <th>MaryElizabethWinstead</th>\n",
       "      <td>1</td>\n",
       "    </tr>\n",
       "    <tr>\n",
       "      <th>ShittyMapPorn</th>\n",
       "      <td>1</td>\n",
       "    </tr>\n",
       "    <tr>\n",
       "      <th>lewronggeneration</th>\n",
       "      <td>1</td>\n",
       "    </tr>\n",
       "    <tr>\n",
       "      <th>NYYankees</th>\n",
       "      <td>1</td>\n",
       "    </tr>\n",
       "    <tr>\n",
       "      <th>minipainting</th>\n",
       "      <td>1</td>\n",
       "    </tr>\n",
       "    <tr>\n",
       "      <th>195</th>\n",
       "      <td>1</td>\n",
       "    </tr>\n",
       "    <tr>\n",
       "      <th>Flyers</th>\n",
       "      <td>1</td>\n",
       "    </tr>\n",
       "    <tr>\n",
       "      <th>Frugal</th>\n",
       "      <td>1</td>\n",
       "    </tr>\n",
       "    <tr>\n",
       "      <th>OkCupid</th>\n",
       "      <td>1</td>\n",
       "    </tr>\n",
       "    <tr>\n",
       "      <th>papertowns</th>\n",
       "      <td>1</td>\n",
       "    </tr>\n",
       "    <tr>\n",
       "      <th>truegaming</th>\n",
       "      <td>1</td>\n",
       "    </tr>\n",
       "    <tr>\n",
       "      <th>DeadBedrooms</th>\n",
       "      <td>1</td>\n",
       "    </tr>\n",
       "    <tr>\n",
       "      <th>amibeingdetained</th>\n",
       "      <td>1</td>\n",
       "    </tr>\n",
       "    <tr>\n",
       "      <th>SCP</th>\n",
       "      <td>1</td>\n",
       "    </tr>\n",
       "    <tr>\n",
       "      <th>KendrickLamar</th>\n",
       "      <td>1</td>\n",
       "    </tr>\n",
       "    <tr>\n",
       "      <th>SWARJE</th>\n",
       "      <td>1</td>\n",
       "    </tr>\n",
       "    <tr>\n",
       "      <th>Watchexchange</th>\n",
       "      <td>1</td>\n",
       "    </tr>\n",
       "    <tr>\n",
       "      <th>nyjets</th>\n",
       "      <td>1</td>\n",
       "    </tr>\n",
       "    <tr>\n",
       "      <th>postrock</th>\n",
       "      <td>1</td>\n",
       "    </tr>\n",
       "    <tr>\n",
       "      <th>PropagandaPosters</th>\n",
       "      <td>1</td>\n",
       "    </tr>\n",
       "    <tr>\n",
       "      <th>StoriesAboutKevin</th>\n",
       "      <td>1</td>\n",
       "    </tr>\n",
       "    <tr>\n",
       "      <th>AMA</th>\n",
       "      <td>1</td>\n",
       "    </tr>\n",
       "    <tr>\n",
       "      <th>golf</th>\n",
       "      <td>1</td>\n",
       "    </tr>\n",
       "    <tr>\n",
       "      <th>japan</th>\n",
       "      <td>1</td>\n",
       "    </tr>\n",
       "    <tr>\n",
       "      <th>tiltshift</th>\n",
       "      <td>1</td>\n",
       "    </tr>\n",
       "    <tr>\n",
       "      <th>nightvale</th>\n",
       "      <td>1</td>\n",
       "    </tr>\n",
       "    <tr>\n",
       "      <th>peopleofwalmart</th>\n",
       "      <td>1</td>\n",
       "    </tr>\n",
       "    <tr>\n",
       "      <th>radiohead</th>\n",
       "      <td>1</td>\n",
       "    </tr>\n",
       "    <tr>\n",
       "      <th>me_ira</th>\n",
       "      <td>1</td>\n",
       "    </tr>\n",
       "  </tbody>\n",
       "</table>\n",
       "<p>1682 rows × 1 columns</p>\n",
       "</div>"
      ],
      "text/plain": [
       "                       subreddit\n",
       "DDLC                          90\n",
       "aww                           87\n",
       "funny                         84\n",
       "eagles                        76\n",
       "reddevils                     75\n",
       "todayilearned                 50\n",
       "Patriots                      48\n",
       "PewdiepieSubmissions          47\n",
       "PrequelMemes                  43\n",
       "memes                         42\n",
       "CryptoCurrency                41\n",
       "AskReddit                     40\n",
       "tumblr                        40\n",
       "FortNiteBR                    40\n",
       "gaming                        39\n",
       "mildlyinteresting             38\n",
       "rupaulsdragrace               37\n",
       "pics                          36\n",
       "CringeAnarchy                 35\n",
       "BlackPeopleTwitter            34\n",
       "worldnews                     34\n",
       "Tinder                        33\n",
       "MMA                           31\n",
       "minnesotavikings              30\n",
       "videos                        28\n",
       "smashbros                     27\n",
       "gifs                          27\n",
       "news                          26\n",
       "PoliticalHumor                26\n",
       "de                            24\n",
       "...                          ...\n",
       "OnOffCelebs                    1\n",
       "MaryElizabethWinstead          1\n",
       "ShittyMapPorn                  1\n",
       "lewronggeneration              1\n",
       "NYYankees                      1\n",
       "minipainting                   1\n",
       "195                            1\n",
       "Flyers                         1\n",
       "Frugal                         1\n",
       "OkCupid                        1\n",
       "papertowns                     1\n",
       "truegaming                     1\n",
       "DeadBedrooms                   1\n",
       "amibeingdetained               1\n",
       "SCP                            1\n",
       "KendrickLamar                  1\n",
       "SWARJE                         1\n",
       "Watchexchange                  1\n",
       "nyjets                         1\n",
       "postrock                       1\n",
       "PropagandaPosters              1\n",
       "StoriesAboutKevin              1\n",
       "AMA                            1\n",
       "golf                           1\n",
       "japan                          1\n",
       "tiltshift                      1\n",
       "nightvale                      1\n",
       "peopleofwalmart                1\n",
       "radiohead                      1\n",
       "me_ira                         1\n",
       "\n",
       "[1682 rows x 1 columns]"
      ]
     },
     "execution_count": 13,
     "metadata": {},
     "output_type": "execute_result"
    }
   ],
   "source": [
    "subred_counts = pd.DataFrame(reddit['subreddit'].value_counts())\n",
    "subred_counts"
   ]
  },
  {
   "cell_type": "code",
   "execution_count": 14,
   "metadata": {},
   "outputs": [
    {
     "data": {
      "text/plain": [
       "array([90, 87, 84, ...,  1,  1,  1])"
      ]
     },
     "execution_count": 14,
     "metadata": {},
     "output_type": "execute_result"
    }
   ],
   "source": [
    "subred_counts.subreddit.values"
   ]
  },
  {
   "cell_type": "code",
   "execution_count": 17,
   "metadata": {},
   "outputs": [
    {
     "data": {
      "text/html": [
       "<div>\n",
       "<style>\n",
       "    .dataframe thead tr:only-child th {\n",
       "        text-align: right;\n",
       "    }\n",
       "\n",
       "    .dataframe thead th {\n",
       "        text-align: left;\n",
       "    }\n",
       "\n",
       "    .dataframe tbody tr th {\n",
       "        vertical-align: top;\n",
       "    }\n",
       "</style>\n",
       "<table border=\"1\" class=\"dataframe\">\n",
       "  <thead>\n",
       "    <tr style=\"text-align: right;\">\n",
       "      <th></th>\n",
       "      <th>subreddit</th>\n",
       "    </tr>\n",
       "  </thead>\n",
       "  <tbody>\n",
       "    <tr>\n",
       "      <th>DDLC</th>\n",
       "      <td>90</td>\n",
       "    </tr>\n",
       "    <tr>\n",
       "      <th>aww</th>\n",
       "      <td>87</td>\n",
       "    </tr>\n",
       "    <tr>\n",
       "      <th>funny</th>\n",
       "      <td>84</td>\n",
       "    </tr>\n",
       "    <tr>\n",
       "      <th>eagles</th>\n",
       "      <td>76</td>\n",
       "    </tr>\n",
       "    <tr>\n",
       "      <th>reddevils</th>\n",
       "      <td>75</td>\n",
       "    </tr>\n",
       "  </tbody>\n",
       "</table>\n",
       "</div>"
      ],
      "text/plain": [
       "           subreddit\n",
       "DDLC              90\n",
       "aww               87\n",
       "funny             84\n",
       "eagles            76\n",
       "reddevils         75"
      ]
     },
     "execution_count": 17,
     "metadata": {},
     "output_type": "execute_result"
    }
   ],
   "source": [
    "subred_counts.head()"
   ]
  },
  {
   "cell_type": "markdown",
   "metadata": {},
   "source": [
    "### Let's look at total number of comments that each subreddit had:"
   ]
  },
  {
   "cell_type": "code",
   "execution_count": 18,
   "metadata": {
    "collapsed": true,
    "scrolled": true
   },
   "outputs": [],
   "source": [
    "subred_num_tot = reddit[['subreddit','num_comments']].groupby(by='subreddit', sort=True, as_index=False).sum().sort_values(by='num_comments',ascending=False)"
   ]
  },
  {
   "cell_type": "code",
   "execution_count": 19,
   "metadata": {
    "scrolled": true
   },
   "outputs": [
    {
     "data": {
      "text/html": [
       "<div>\n",
       "<style>\n",
       "    .dataframe thead tr:only-child th {\n",
       "        text-align: right;\n",
       "    }\n",
       "\n",
       "    .dataframe thead th {\n",
       "        text-align: left;\n",
       "    }\n",
       "\n",
       "    .dataframe tbody tr th {\n",
       "        vertical-align: top;\n",
       "    }\n",
       "</style>\n",
       "<table border=\"1\" class=\"dataframe\">\n",
       "  <thead>\n",
       "    <tr style=\"text-align: right;\">\n",
       "      <th></th>\n",
       "      <th>subreddit</th>\n",
       "      <th>num_comments</th>\n",
       "    </tr>\n",
       "  </thead>\n",
       "  <tbody>\n",
       "    <tr>\n",
       "      <th>61</th>\n",
       "      <td>AskReddit</td>\n",
       "      <td>65815</td>\n",
       "    </tr>\n",
       "    <tr>\n",
       "      <th>1393</th>\n",
       "      <td>pics</td>\n",
       "      <td>10072</td>\n",
       "    </tr>\n",
       "    <tr>\n",
       "      <th>1333</th>\n",
       "      <td>news</td>\n",
       "      <td>9106</td>\n",
       "    </tr>\n",
       "    <tr>\n",
       "      <th>1589</th>\n",
       "      <td>todayilearned</td>\n",
       "      <td>7887</td>\n",
       "    </tr>\n",
       "    <tr>\n",
       "      <th>1665</th>\n",
       "      <td>worldnews</td>\n",
       "      <td>7338</td>\n",
       "    </tr>\n",
       "    <tr>\n",
       "      <th>1102</th>\n",
       "      <td>funny</td>\n",
       "      <td>7238</td>\n",
       "    </tr>\n",
       "    <tr>\n",
       "      <th>1633</th>\n",
       "      <td>videos</td>\n",
       "      <td>6205</td>\n",
       "    </tr>\n",
       "    <tr>\n",
       "      <th>1037</th>\n",
       "      <td>eagles</td>\n",
       "      <td>5414</td>\n",
       "    </tr>\n",
       "    <tr>\n",
       "      <th>596</th>\n",
       "      <td>PoliticalHumor</td>\n",
       "      <td>4697</td>\n",
       "    </tr>\n",
       "    <tr>\n",
       "      <th>1471</th>\n",
       "      <td>science</td>\n",
       "      <td>4598</td>\n",
       "    </tr>\n",
       "  </tbody>\n",
       "</table>\n",
       "</div>"
      ],
      "text/plain": [
       "           subreddit  num_comments\n",
       "61         AskReddit         65815\n",
       "1393            pics         10072\n",
       "1333            news          9106\n",
       "1589   todayilearned          7887\n",
       "1665       worldnews          7338\n",
       "1102           funny          7238\n",
       "1633          videos          6205\n",
       "1037          eagles          5414\n",
       "596   PoliticalHumor          4697\n",
       "1471         science          4598"
      ]
     },
     "execution_count": 19,
     "metadata": {},
     "output_type": "execute_result"
    }
   ],
   "source": [
    "subred_num_tot.head(10)"
   ]
  },
  {
   "cell_type": "code",
   "execution_count": 20,
   "metadata": {
    "collapsed": true
   },
   "outputs": [],
   "source": [
    "subred_num_tot.rename(index=str, columns={'subreddit': 'Subreddit', 'num_comments': 'Total_Num_Comments'}, inplace=True)"
   ]
  },
  {
   "cell_type": "code",
   "execution_count": 21,
   "metadata": {
    "scrolled": false
   },
   "outputs": [
    {
     "data": {
      "text/plain": [
       "<matplotlib.axes._subplots.AxesSubplot at 0x103e54d90>"
      ]
     },
     "execution_count": 21,
     "metadata": {},
     "output_type": "execute_result"
    },
    {
     "data": {
      "image/png": "[encoded data removed]",
      "text/plain": [
       "<matplotlib.figure.Figure at 0x10e44d1d0>"
      ]
     },
     "metadata": {
      "image/png": {
       "height": 588,
       "width": 726
      }
     },
     "output_type": "display_data"
    }
   ],
   "source": [
    "sns.set(style=\"whitegrid\")\n",
    "\n",
    "f, ax = plt.subplots(figsize=(10, 10))\n",
    "\n",
    "sns.set_color_codes(\"pastel\")\n",
    "sns.barplot(x=\"Total_Num_Comments\", y=\"Subreddit\", data=subred_num_tot[:10],\n",
    "            label=\"Comments\", color=\"b\")"
   ]
  },
  {
   "cell_type": "code",
   "execution_count": 475,
   "metadata": {
    "scrolled": true
   },
   "outputs": [
    {
     "data": {
      "text/plain": [
       "<matplotlib.axes._subplots.AxesSubplot at 0x1a28e7e810>"
      ]
     },
     "execution_count": 475,
     "metadata": {},
     "output_type": "execute_result"
    },
    {
     "data": {
      "image/png": "[encoded data removed]",
      "text/plain": [
       "<matplotlib.figure.Figure at 0x1a28e8c590>"
      ]
     },
     "metadata": {
      "image/png": {
       "height": 262,
       "width": 475
      }
     },
     "output_type": "display_data"
    }
   ],
   "source": [
    "sns.barplot(x='Total_Num_Comments', y='Subreddit', orient='h', data=subred_num_tot[:10])"
   ]
  },
  {
   "cell_type": "markdown",
   "metadata": {},
   "source": [
    "### Let's look at average number of comments that each subreddit had:"
   ]
  },
  {
   "cell_type": "code",
   "execution_count": 393,
   "metadata": {
    "collapsed": true
   },
   "outputs": [],
   "source": [
    "subred_num_avg = reddit[['subreddit','num_comments']].groupby(by='subreddit', sort=True, as_index=False).mean().round().sort_values(by='num_comments',ascending=False)"
   ]
  },
  {
   "cell_type": "code",
   "execution_count": 394,
   "metadata": {},
   "outputs": [
    {
     "data": {
      "text/html": [
       "<div>\n",
       "<style>\n",
       "    .dataframe thead tr:only-child th {\n",
       "        text-align: right;\n",
       "    }\n",
       "\n",
       "    .dataframe thead th {\n",
       "        text-align: left;\n",
       "    }\n",
       "\n",
       "    .dataframe tbody tr th {\n",
       "        vertical-align: top;\n",
       "    }\n",
       "</style>\n",
       "<table border=\"1\" class=\"dataframe\">\n",
       "  <thead>\n",
       "    <tr style=\"text-align: right;\">\n",
       "      <th></th>\n",
       "      <th>subreddit</th>\n",
       "      <th>num_comments</th>\n",
       "    </tr>\n",
       "  </thead>\n",
       "  <tbody>\n",
       "    <tr>\n",
       "      <th>61</th>\n",
       "      <td>AskReddit</td>\n",
       "      <td>1645.0</td>\n",
       "    </tr>\n",
       "    <tr>\n",
       "      <th>1062</th>\n",
       "      <td>explainlikeimfive</td>\n",
       "      <td>1443.0</td>\n",
       "    </tr>\n",
       "    <tr>\n",
       "      <th>1159</th>\n",
       "      <td>happy</td>\n",
       "      <td>1329.0</td>\n",
       "    </tr>\n",
       "    <tr>\n",
       "      <th>369</th>\n",
       "      <td>IAmA</td>\n",
       "      <td>1007.0</td>\n",
       "    </tr>\n",
       "    <tr>\n",
       "      <th>980</th>\n",
       "      <td>coolguides</td>\n",
       "      <td>924.0</td>\n",
       "    </tr>\n",
       "    <tr>\n",
       "      <th>177</th>\n",
       "      <td>ColorizedHistory</td>\n",
       "      <td>916.0</td>\n",
       "    </tr>\n",
       "    <tr>\n",
       "      <th>1386</th>\n",
       "      <td>personalfinance</td>\n",
       "      <td>744.0</td>\n",
       "    </tr>\n",
       "    <tr>\n",
       "      <th>241</th>\n",
       "      <td>Documentaries</td>\n",
       "      <td>740.0</td>\n",
       "    </tr>\n",
       "    <tr>\n",
       "      <th>1523</th>\n",
       "      <td>sports</td>\n",
       "      <td>712.0</td>\n",
       "    </tr>\n",
       "    <tr>\n",
       "      <th>1471</th>\n",
       "      <td>science</td>\n",
       "      <td>657.0</td>\n",
       "    </tr>\n",
       "  </tbody>\n",
       "</table>\n",
       "</div>"
      ],
      "text/plain": [
       "              subreddit  num_comments\n",
       "61            AskReddit        1645.0\n",
       "1062  explainlikeimfive        1443.0\n",
       "1159              happy        1329.0\n",
       "369                IAmA        1007.0\n",
       "980          coolguides         924.0\n",
       "177    ColorizedHistory         916.0\n",
       "1386    personalfinance         744.0\n",
       "241       Documentaries         740.0\n",
       "1523             sports         712.0\n",
       "1471            science         657.0"
      ]
     },
     "execution_count": 394,
     "metadata": {},
     "output_type": "execute_result"
    }
   ],
   "source": [
    "subred_num_avg.head(10)"
   ]
  },
  {
   "cell_type": "code",
   "execution_count": 467,
   "metadata": {
    "collapsed": true
   },
   "outputs": [],
   "source": [
    "subred_num_avg.rename(index=str, columns={'subreddit': 'Subreddit', 'num_comments': 'Average_Num_Comments'}, inplace=True)"
   ]
  },
  {
   "cell_type": "code",
   "execution_count": 468,
   "metadata": {},
   "outputs": [
    {
     "data": {
      "text/html": [
       "<div>\n",
       "<style>\n",
       "    .dataframe thead tr:only-child th {\n",
       "        text-align: right;\n",
       "    }\n",
       "\n",
       "    .dataframe thead th {\n",
       "        text-align: left;\n",
       "    }\n",
       "\n",
       "    .dataframe tbody tr th {\n",
       "        vertical-align: top;\n",
       "    }\n",
       "</style>\n",
       "<table border=\"1\" class=\"dataframe\">\n",
       "  <thead>\n",
       "    <tr style=\"text-align: right;\">\n",
       "      <th></th>\n",
       "      <th>Subreddit</th>\n",
       "      <th>Average_Num_Comments</th>\n",
       "    </tr>\n",
       "  </thead>\n",
       "  <tbody>\n",
       "    <tr>\n",
       "      <th>61</th>\n",
       "      <td>AskReddit</td>\n",
       "      <td>1645.0</td>\n",
       "    </tr>\n",
       "  </tbody>\n",
       "</table>\n",
       "</div>"
      ],
      "text/plain": [
       "    Subreddit  Average_Num_Comments\n",
       "61  AskReddit                1645.0"
      ]
     },
     "execution_count": 468,
     "metadata": {},
     "output_type": "execute_result"
    }
   ],
   "source": [
    "subred_num_avg.head(1)"
   ]
  },
  {
   "cell_type": "code",
   "execution_count": 470,
   "metadata": {},
   "outputs": [
    {
     "data": {
      "text/plain": [
       "<matplotlib.axes._subplots.AxesSubplot at 0x1a2640b750>"
      ]
     },
     "execution_count": 470,
     "metadata": {},
     "output_type": "execute_result"
    },
    {
     "data": {
      "image/png": "[encoded data removed]",
      "text/plain": [
       "<matplotlib.figure.Figure at 0x1a23bcff10>"
      ]
     },
     "metadata": {
      "image/png": {
       "height": 588,
       "width": 735
      }
     },
     "output_type": "display_data"
    }
   ],
   "source": [
    "sns.set(style=\"darkgrid\")\n",
    "\n",
    "f, ax = plt.subplots(figsize=(10, 10))\n",
    "\n",
    "sns.set_color_codes(\"pastel\")\n",
    "sns.barplot(x=\"Average_Num_Comments\", y=\"Subreddit\", data=subred_num_avg[:10], color=\"b\")"
   ]
  },
  {
   "cell_type": "code",
   "execution_count": 471,
   "metadata": {},
   "outputs": [
    {
     "data": {
      "text/plain": [
       "<matplotlib.axes._subplots.AxesSubplot at 0x1a23b59e90>"
      ]
     },
     "execution_count": 471,
     "metadata": {},
     "output_type": "execute_result"
    },
    {
     "data": {
      "image/png": "[encoded data removed]",
      "text/plain": [
       "<matplotlib.figure.Figure at 0x1a27078890>"
      ]
     },
     "metadata": {
      "image/png": {
       "height": 262,
       "width": 484
      }
     },
     "output_type": "display_data"
    }
   ],
   "source": [
    "sns.barplot(x='Average_Num_Comments', y='Subreddit', orient='h', data=subred_num_avg[:10], color='g')"
   ]
  },
  {
   "cell_type": "markdown",
   "metadata": {},
   "source": [
    "### A closer look at why AskReddit has so many total comments shows 1 very popular post (>35,000):"
   ]
  },
  {
   "cell_type": "code",
   "execution_count": 397,
   "metadata": {
    "collapsed": true
   },
   "outputs": [],
   "source": [
    "askreddit = reddit[reddit['subreddit'] == 'AskReddit']"
   ]
  },
  {
   "cell_type": "code",
   "execution_count": 398,
   "metadata": {},
   "outputs": [
    {
     "data": {
      "text/plain": [
       "40"
      ]
     },
     "execution_count": 398,
     "metadata": {},
     "output_type": "execute_result"
    }
   ],
   "source": [
    "len(askreddit)"
   ]
  },
  {
   "cell_type": "code",
   "execution_count": 399,
   "metadata": {},
   "outputs": [
    {
     "data": {
      "text/plain": [
       "35437    1\n",
       "4620     1\n",
       "3636     1\n",
       "2248     1\n",
       "2159     1\n",
       "1829     1\n",
       "1825     1\n",
       "1425     1\n",
       "1313     1\n",
       "1291     1\n",
       "Name: num_comments, dtype: int64"
      ]
     },
     "execution_count": 399,
     "metadata": {},
     "output_type": "execute_result"
    }
   ],
   "source": [
    "askreddit['num_comments'].value_counts().sort_index(ascending=False)[:10]"
   ]
  },
  {
   "cell_type": "markdown",
   "metadata": {},
   "source": [
    "# <div class=\"alert alert-block alert-info\">STEP 4: Run various predictive models on different feature sets:</div>"
   ]
  },
  {
   "cell_type": "markdown",
   "metadata": {
    "focus": false,
    "id": "a7afb2c0-d41e-4779-8216-91cd8dd4473f"
   },
   "source": [
    "### The baseline accuracy is the best we could do by merely guessing whether or not a post gets a high number of comments or a low number.  This will be the benchmark for all models to beat.  Before preparing any models I will compute this baseline accuracy for predicting whether a Reddit post will get more or less than the median number (15) of comments:"
   ]
  },
  {
   "cell_type": "code",
   "execution_count": 400,
   "metadata": {
    "focus": false,
    "id": "87a17d3d-b7f4-4747-9f75-f9af1d18a174"
   },
   "outputs": [
    {
     "name": "stdout",
     "output_type": "stream",
     "text": [
      "Baseline accuracy is: 0.51\n"
     ]
    }
   ],
   "source": [
    "baseline = 1 - reddit['comm_range'].mean()\n",
    "print 'Baseline accuracy is:', round(baseline, 2)"
   ]
  },
  {
   "cell_type": "markdown",
   "metadata": {},
   "source": [
    "## Import models from Sklearn:"
   ]
  },
  {
   "cell_type": "code",
   "execution_count": 484,
   "metadata": {
    "collapsed": true,
    "focus": false,
    "id": "ddbc6159-6854-4ca7-857f-bfecdaf6d9c2"
   },
   "outputs": [],
   "source": [
    "from sklearn.model_selection import cross_val_score, StratifiedKFold\n",
    "from sklearn.tree import DecisionTreeClassifier\n",
    "from sklearn.ensemble import RandomForestClassifier, ExtraTreesClassifier, BaggingClassifier\n",
    "from sklearn.linear_model import LogisticRegression\n",
    "from sklearn.preprocessing import StandardScaler\n"
   ]
  },
  {
   "cell_type": "code",
   "execution_count": 485,
   "metadata": {
    "scrolled": true
   },
   "outputs": [
    {
     "data": {
      "text/plain": [
       "1682"
      ]
     },
     "execution_count": 485,
     "metadata": {},
     "output_type": "execute_result"
    }
   ],
   "source": [
    "len(np.unique(reddit['subreddit']))"
   ]
  },
  {
   "cell_type": "markdown",
   "metadata": {},
   "source": [
    "## Establish X feature variable and y target variable.  Craate dummy variables of different subreddits:"
   ]
  },
  {
   "cell_type": "code",
   "execution_count": 486,
   "metadata": {
    "collapsed": true
   },
   "outputs": [],
   "source": [
    "X = reddit['subreddit']\n",
    "y = reddit['comm_range']"
   ]
  },
  {
   "cell_type": "code",
   "execution_count": 487,
   "metadata": {
    "collapsed": true
   },
   "outputs": [],
   "source": [
    "X = pd.get_dummies(X, prefix='sub')"
   ]
  },
  {
   "cell_type": "code",
   "execution_count": 488,
   "metadata": {},
   "outputs": [
    {
     "data": {
      "text/html": [
       "<div>\n",
       "<style>\n",
       "    .dataframe thead tr:only-child th {\n",
       "        text-align: right;\n",
       "    }\n",
       "\n",
       "    .dataframe thead th {\n",
       "        text-align: left;\n",
       "    }\n",
       "\n",
       "    .dataframe tbody tr th {\n",
       "        vertical-align: top;\n",
       "    }\n",
       "</style>\n",
       "<table border=\"1\" class=\"dataframe\">\n",
       "  <thead>\n",
       "    <tr style=\"text-align: right;\">\n",
       "      <th></th>\n",
       "      <th>sub_13or30</th>\n",
       "      <th>sub_195</th>\n",
       "      <th>sub_2healthbars</th>\n",
       "      <th>sub_2meirl42meirl4meirl</th>\n",
       "      <th>sub_2meirl4meirl</th>\n",
       "      <th>sub_30ROCK</th>\n",
       "      <th>sub_3Dprinting</th>\n",
       "      <th>sub_40kLore</th>\n",
       "      <th>sub_49ers</th>\n",
       "      <th>sub_4PanelCringe</th>\n",
       "      <th>...</th>\n",
       "      <th>sub_xboxone</th>\n",
       "      <th>sub_xkcd</th>\n",
       "      <th>sub_xmen</th>\n",
       "      <th>sub_xxfitness</th>\n",
       "      <th>sub_yesyesyesyesno</th>\n",
       "      <th>sub_ynab</th>\n",
       "      <th>sub_youdontsurf</th>\n",
       "      <th>sub_youtube</th>\n",
       "      <th>sub_youtubehaiku</th>\n",
       "      <th>sub_zelda</th>\n",
       "    </tr>\n",
       "  </thead>\n",
       "  <tbody>\n",
       "    <tr>\n",
       "      <th>0</th>\n",
       "      <td>0</td>\n",
       "      <td>0</td>\n",
       "      <td>0</td>\n",
       "      <td>0</td>\n",
       "      <td>0</td>\n",
       "      <td>0</td>\n",
       "      <td>0</td>\n",
       "      <td>0</td>\n",
       "      <td>0</td>\n",
       "      <td>0</td>\n",
       "      <td>...</td>\n",
       "      <td>0</td>\n",
       "      <td>0</td>\n",
       "      <td>0</td>\n",
       "      <td>0</td>\n",
       "      <td>0</td>\n",
       "      <td>0</td>\n",
       "      <td>0</td>\n",
       "      <td>0</td>\n",
       "      <td>0</td>\n",
       "      <td>0</td>\n",
       "    </tr>\n",
       "    <tr>\n",
       "      <th>1</th>\n",
       "      <td>0</td>\n",
       "      <td>0</td>\n",
       "      <td>0</td>\n",
       "      <td>0</td>\n",
       "      <td>0</td>\n",
       "      <td>0</td>\n",
       "      <td>0</td>\n",
       "      <td>0</td>\n",
       "      <td>0</td>\n",
       "      <td>0</td>\n",
       "      <td>...</td>\n",
       "      <td>0</td>\n",
       "      <td>0</td>\n",
       "      <td>0</td>\n",
       "      <td>0</td>\n",
       "      <td>0</td>\n",
       "      <td>0</td>\n",
       "      <td>0</td>\n",
       "      <td>0</td>\n",
       "      <td>0</td>\n",
       "      <td>0</td>\n",
       "    </tr>\n",
       "  </tbody>\n",
       "</table>\n",
       "<p>2 rows × 1682 columns</p>\n",
       "</div>"
      ],
      "text/plain": [
       "   sub_13or30  sub_195  sub_2healthbars  sub_2meirl42meirl4meirl  \\\n",
       "0           0        0                0                        0   \n",
       "1           0        0                0                        0   \n",
       "\n",
       "   sub_2meirl4meirl  sub_30ROCK  sub_3Dprinting  sub_40kLore  sub_49ers  \\\n",
       "0                 0           0               0            0          0   \n",
       "1                 0           0               0            0          0   \n",
       "\n",
       "   sub_4PanelCringe    ...      sub_xboxone  sub_xkcd  sub_xmen  \\\n",
       "0                 0    ...                0         0         0   \n",
       "1                 0    ...                0         0         0   \n",
       "\n",
       "   sub_xxfitness  sub_yesyesyesyesno  sub_ynab  sub_youdontsurf  sub_youtube  \\\n",
       "0              0                   0         0                0            0   \n",
       "1              0                   0         0                0            0   \n",
       "\n",
       "   sub_youtubehaiku  sub_zelda  \n",
       "0                 0          0  \n",
       "1                 0          0  \n",
       "\n",
       "[2 rows x 1682 columns]"
      ]
     },
     "execution_count": 488,
     "metadata": {},
     "output_type": "execute_result"
    }
   ],
   "source": [
    "X.head(2)"
   ]
  },
  {
   "cell_type": "markdown",
   "metadata": {},
   "source": [
    "### <div class=\"alert alert-block alert-warning\">MODEL #1: <br>Feature(s) - Subreddit <br>Model - RandomForest</div>"
   ]
  },
  {
   "cell_type": "code",
   "execution_count": 489,
   "metadata": {},
   "outputs": [
    {
     "name": "stdout",
     "output_type": "stream",
     "text": [
      "Cross-validated RF scores based on subreddit: [ 0.64292322  0.62719704  0.66512488  0.64384829  0.55319149]\n",
      "Mean score: 0.626456984274\n"
     ]
    }
   ],
   "source": [
    "rf = RandomForestClassifier(n_estimators=50, random_state=42)\n",
    "\n",
    "scores = cross_val_score(rf, X, y, cv=skf)\n",
    "print \"Cross-validated RF scores based on subreddit:\", scores\n",
    "print \"Mean score:\", scores.mean()"
   ]
  },
  {
   "cell_type": "markdown",
   "metadata": {},
   "source": [
    "### <div class=\"alert alert-block alert-warning\">MODEL #2: <br>Feature(s) - Subreddit + frequency of certain words <br>Model - RandomForest</div>"
   ]
  },
  {
   "cell_type": "markdown",
   "metadata": {},
   "source": [
    "### Create extra features based on the frequency of certain words to see if I can improve predictive power of the model:"
   ]
  },
  {
   "cell_type": "code",
   "execution_count": 490,
   "metadata": {
    "collapsed": true
   },
   "outputs": [],
   "source": [
    "reddit['title'] = reddit['title'].map(lambda x: x.lower())"
   ]
  },
  {
   "cell_type": "code",
   "execution_count": 491,
   "metadata": {},
   "outputs": [
    {
     "data": {
      "text/html": [
       "<div>\n",
       "<style>\n",
       "    .dataframe thead tr:only-child th {\n",
       "        text-align: right;\n",
       "    }\n",
       "\n",
       "    .dataframe thead th {\n",
       "        text-align: left;\n",
       "    }\n",
       "\n",
       "    .dataframe tbody tr th {\n",
       "        vertical-align: top;\n",
       "    }\n",
       "</style>\n",
       "<table border=\"1\" class=\"dataframe\">\n",
       "  <thead>\n",
       "    <tr style=\"text-align: right;\">\n",
       "      <th></th>\n",
       "      <th>Unnamed: 0</th>\n",
       "      <th>created_at</th>\n",
       "      <th>id</th>\n",
       "      <th>num_comments</th>\n",
       "      <th>subreddit</th>\n",
       "      <th>time_delta</th>\n",
       "      <th>time_now</th>\n",
       "      <th>title</th>\n",
       "      <th>upvotes</th>\n",
       "      <th>comm_range</th>\n",
       "      <th>curse_words</th>\n",
       "      <th>fun_words</th>\n",
       "      <th>happy_words</th>\n",
       "      <th>vice_words</th>\n",
       "      <th>vader_neg</th>\n",
       "      <th>vader_pos</th>\n",
       "      <th>vader_neu</th>\n",
       "      <th>vader_compound</th>\n",
       "      <th>title_len</th>\n",
       "    </tr>\n",
       "  </thead>\n",
       "  <tbody>\n",
       "    <tr>\n",
       "      <th>0</th>\n",
       "      <td>0</td>\n",
       "      <td>2018-01-22 16:36:35</td>\n",
       "      <td>470616764</td>\n",
       "      <td>1153</td>\n",
       "      <td>gifs</td>\n",
       "      <td>0 days 04:24:57.883078000</td>\n",
       "      <td>2018-01-22 21:01:32.883070</td>\n",
       "      <td>finnish ski jumping team</td>\n",
       "      <td>86005</td>\n",
       "      <td>1</td>\n",
       "      <td>0</td>\n",
       "      <td>0</td>\n",
       "      <td>0</td>\n",
       "      <td>0</td>\n",
       "      <td>0.000</td>\n",
       "      <td>0.000</td>\n",
       "      <td>1.000</td>\n",
       "      <td>0.0000</td>\n",
       "      <td>4</td>\n",
       "    </tr>\n",
       "    <tr>\n",
       "      <th>1</th>\n",
       "      <td>1</td>\n",
       "      <td>2018-01-22 16:37:28</td>\n",
       "      <td>470617063</td>\n",
       "      <td>238</td>\n",
       "      <td>pics</td>\n",
       "      <td>0 days 04:24:04.883093000</td>\n",
       "      <td>2018-01-22 21:01:32.883092</td>\n",
       "      <td>super excited about motherhood</td>\n",
       "      <td>20336</td>\n",
       "      <td>1</td>\n",
       "      <td>0</td>\n",
       "      <td>0</td>\n",
       "      <td>0</td>\n",
       "      <td>0</td>\n",
       "      <td>0.000</td>\n",
       "      <td>0.759</td>\n",
       "      <td>0.241</td>\n",
       "      <td>0.7430</td>\n",
       "      <td>4</td>\n",
       "    </tr>\n",
       "    <tr>\n",
       "      <th>2</th>\n",
       "      <td>2</td>\n",
       "      <td>2018-01-22 16:50:12</td>\n",
       "      <td>470621440</td>\n",
       "      <td>844</td>\n",
       "      <td>funny</td>\n",
       "      <td>0 days 04:11:20.883101000</td>\n",
       "      <td>2018-01-22 21:01:32.883100</td>\n",
       "      <td>messing with the new guy.</td>\n",
       "      <td>17611</td>\n",
       "      <td>1</td>\n",
       "      <td>0</td>\n",
       "      <td>0</td>\n",
       "      <td>0</td>\n",
       "      <td>0</td>\n",
       "      <td>0.000</td>\n",
       "      <td>0.000</td>\n",
       "      <td>1.000</td>\n",
       "      <td>0.0000</td>\n",
       "      <td>5</td>\n",
       "    </tr>\n",
       "    <tr>\n",
       "      <th>3</th>\n",
       "      <td>3</td>\n",
       "      <td>2018-01-22 17:25:20</td>\n",
       "      <td>470633617</td>\n",
       "      <td>380</td>\n",
       "      <td>space</td>\n",
       "      <td>0 days 03:36:12.883109000</td>\n",
       "      <td>2018-01-22 21:01:32.883108</td>\n",
       "      <td>nasa cancels and postpones all of their public...</td>\n",
       "      <td>11178</td>\n",
       "      <td>1</td>\n",
       "      <td>0</td>\n",
       "      <td>0</td>\n",
       "      <td>0</td>\n",
       "      <td>0</td>\n",
       "      <td>0.200</td>\n",
       "      <td>0.000</td>\n",
       "      <td>0.800</td>\n",
       "      <td>-0.4588</td>\n",
       "      <td>18</td>\n",
       "    </tr>\n",
       "    <tr>\n",
       "      <th>4</th>\n",
       "      <td>4</td>\n",
       "      <td>2018-01-22 15:41:56</td>\n",
       "      <td>470598246</td>\n",
       "      <td>430</td>\n",
       "      <td>technology</td>\n",
       "      <td>0 days 05:19:36.883120000</td>\n",
       "      <td>2018-01-22 21:01:32.883118</td>\n",
       "      <td>new bill would stop states from banning broadb...</td>\n",
       "      <td>13467</td>\n",
       "      <td>1</td>\n",
       "      <td>0</td>\n",
       "      <td>0</td>\n",
       "      <td>0</td>\n",
       "      <td>0</td>\n",
       "      <td>0.216</td>\n",
       "      <td>0.000</td>\n",
       "      <td>0.784</td>\n",
       "      <td>-0.2960</td>\n",
       "      <td>9</td>\n",
       "    </tr>\n",
       "  </tbody>\n",
       "</table>\n",
       "</div>"
      ],
      "text/plain": [
       "   Unnamed: 0           created_at         id  num_comments   subreddit  \\\n",
       "0           0  2018-01-22 16:36:35  470616764          1153        gifs   \n",
       "1           1  2018-01-22 16:37:28  470617063           238        pics   \n",
       "2           2  2018-01-22 16:50:12  470621440           844       funny   \n",
       "3           3  2018-01-22 17:25:20  470633617           380       space   \n",
       "4           4  2018-01-22 15:41:56  470598246           430  technology   \n",
       "\n",
       "                  time_delta                    time_now  \\\n",
       "0  0 days 04:24:57.883078000  2018-01-22 21:01:32.883070   \n",
       "1  0 days 04:24:04.883093000  2018-01-22 21:01:32.883092   \n",
       "2  0 days 04:11:20.883101000  2018-01-22 21:01:32.883100   \n",
       "3  0 days 03:36:12.883109000  2018-01-22 21:01:32.883108   \n",
       "4  0 days 05:19:36.883120000  2018-01-22 21:01:32.883118   \n",
       "\n",
       "                                               title  upvotes  comm_range  \\\n",
       "0                           finnish ski jumping team    86005           1   \n",
       "1                     super excited about motherhood    20336           1   \n",
       "2                          messing with the new guy.    17611           1   \n",
       "3  nasa cancels and postpones all of their public...    11178           1   \n",
       "4  new bill would stop states from banning broadb...    13467           1   \n",
       "\n",
       "   curse_words  fun_words  happy_words  vice_words  vader_neg  vader_pos  \\\n",
       "0            0          0            0           0      0.000      0.000   \n",
       "1            0          0            0           0      0.000      0.759   \n",
       "2            0          0            0           0      0.000      0.000   \n",
       "3            0          0            0           0      0.200      0.000   \n",
       "4            0          0            0           0      0.216      0.000   \n",
       "\n",
       "   vader_neu  vader_compound  title_len  \n",
       "0      1.000          0.0000          4  \n",
       "1      0.241          0.7430          4  \n",
       "2      1.000          0.0000          5  \n",
       "3      0.800         -0.4588         18  \n",
       "4      0.784         -0.2960          9  "
      ]
     },
     "execution_count": 491,
     "metadata": {},
     "output_type": "execute_result"
    }
   ],
   "source": [
    "reddit.head()"
   ]
  },
  {
   "cell_type": "code",
   "execution_count": 492,
   "metadata": {},
   "outputs": [
    {
     "name": "stdout",
     "output_type": "stream",
     "text": [
      "Number of titles with curse words:  79\n",
      "Number of titles with fun words:  228\n",
      "Number of titles with happy words:  177\n",
      "Number of titles with vice words:  41\n"
     ]
    }
   ],
   "source": [
    "curse_words = 'fuck|shit|dick|cock|bullshit|cunt'\n",
    "fun_words = 'fun|funny|cat|dog|kitten|puppy|animal'\n",
    "happy_words = 'life|love|family|happy|happiness'\n",
    "vice_words = 'sex|drugs|money'\n",
    "\n",
    "print \"Number of titles with curse words: \", len(reddit[reddit['title'].str.contains(curse_words)])\n",
    "print \"Number of titles with fun words: \", len(reddit[reddit['title'].str.contains(fun_words)])\n",
    "print \"Number of titles with happy words: \", len(reddit[reddit['title'].str.contains(happy_words)])\n",
    "print \"Number of titles with vice words: \", len(reddit[reddit['title'].str.contains(vice_words)])"
   ]
  },
  {
   "cell_type": "code",
   "execution_count": 493,
   "metadata": {
    "collapsed": true
   },
   "outputs": [],
   "source": [
    "curse_array = reddit['title'].str.contains(curse_words).values\n",
    "fun_array = reddit['title'].str.contains(fun_words).values\n",
    "happy_array = reddit['title'].str.contains(happy_words).values\n",
    "vice_array = reddit['title'].str.contains(vice_words).values\n",
    "\n",
    "reddit['curse_words'] = curse_array.astype(int)\n",
    "reddit['fun_words'] = fun_array.astype(int)\n",
    "reddit['happy_words'] = happy_array.astype(int)\n",
    "reddit['vice_words'] = vice_array.astype(int)"
   ]
  },
  {
   "cell_type": "code",
   "execution_count": 494,
   "metadata": {},
   "outputs": [
    {
     "data": {
      "text/html": [
       "<div>\n",
       "<style>\n",
       "    .dataframe thead tr:only-child th {\n",
       "        text-align: right;\n",
       "    }\n",
       "\n",
       "    .dataframe thead th {\n",
       "        text-align: left;\n",
       "    }\n",
       "\n",
       "    .dataframe tbody tr th {\n",
       "        vertical-align: top;\n",
       "    }\n",
       "</style>\n",
       "<table border=\"1\" class=\"dataframe\">\n",
       "  <thead>\n",
       "    <tr style=\"text-align: right;\">\n",
       "      <th></th>\n",
       "      <th>Unnamed: 0</th>\n",
       "      <th>created_at</th>\n",
       "      <th>id</th>\n",
       "      <th>num_comments</th>\n",
       "      <th>subreddit</th>\n",
       "      <th>time_delta</th>\n",
       "      <th>time_now</th>\n",
       "      <th>title</th>\n",
       "      <th>upvotes</th>\n",
       "      <th>comm_range</th>\n",
       "      <th>curse_words</th>\n",
       "      <th>fun_words</th>\n",
       "      <th>happy_words</th>\n",
       "      <th>vice_words</th>\n",
       "      <th>vader_neg</th>\n",
       "      <th>vader_pos</th>\n",
       "      <th>vader_neu</th>\n",
       "      <th>vader_compound</th>\n",
       "      <th>title_len</th>\n",
       "    </tr>\n",
       "  </thead>\n",
       "  <tbody>\n",
       "    <tr>\n",
       "      <th>0</th>\n",
       "      <td>0</td>\n",
       "      <td>2018-01-22 16:36:35</td>\n",
       "      <td>470616764</td>\n",
       "      <td>1153</td>\n",
       "      <td>gifs</td>\n",
       "      <td>0 days 04:24:57.883078000</td>\n",
       "      <td>2018-01-22 21:01:32.883070</td>\n",
       "      <td>finnish ski jumping team</td>\n",
       "      <td>86005</td>\n",
       "      <td>1</td>\n",
       "      <td>0</td>\n",
       "      <td>0</td>\n",
       "      <td>0</td>\n",
       "      <td>0</td>\n",
       "      <td>0.0</td>\n",
       "      <td>0.000</td>\n",
       "      <td>1.000</td>\n",
       "      <td>0.000</td>\n",
       "      <td>4</td>\n",
       "    </tr>\n",
       "    <tr>\n",
       "      <th>1</th>\n",
       "      <td>1</td>\n",
       "      <td>2018-01-22 16:37:28</td>\n",
       "      <td>470617063</td>\n",
       "      <td>238</td>\n",
       "      <td>pics</td>\n",
       "      <td>0 days 04:24:04.883093000</td>\n",
       "      <td>2018-01-22 21:01:32.883092</td>\n",
       "      <td>super excited about motherhood</td>\n",
       "      <td>20336</td>\n",
       "      <td>1</td>\n",
       "      <td>0</td>\n",
       "      <td>0</td>\n",
       "      <td>0</td>\n",
       "      <td>0</td>\n",
       "      <td>0.0</td>\n",
       "      <td>0.759</td>\n",
       "      <td>0.241</td>\n",
       "      <td>0.743</td>\n",
       "      <td>4</td>\n",
       "    </tr>\n",
       "  </tbody>\n",
       "</table>\n",
       "</div>"
      ],
      "text/plain": [
       "   Unnamed: 0           created_at         id  num_comments subreddit  \\\n",
       "0           0  2018-01-22 16:36:35  470616764          1153      gifs   \n",
       "1           1  2018-01-22 16:37:28  470617063           238      pics   \n",
       "\n",
       "                  time_delta                    time_now  \\\n",
       "0  0 days 04:24:57.883078000  2018-01-22 21:01:32.883070   \n",
       "1  0 days 04:24:04.883093000  2018-01-22 21:01:32.883092   \n",
       "\n",
       "                            title  upvotes  comm_range  curse_words  \\\n",
       "0        finnish ski jumping team    86005           1            0   \n",
       "1  super excited about motherhood    20336           1            0   \n",
       "\n",
       "   fun_words  happy_words  vice_words  vader_neg  vader_pos  vader_neu  \\\n",
       "0          0            0           0        0.0      0.000      1.000   \n",
       "1          0            0           0        0.0      0.759      0.241   \n",
       "\n",
       "   vader_compound  title_len  \n",
       "0           0.000          4  \n",
       "1           0.743          4  "
      ]
     },
     "execution_count": 494,
     "metadata": {},
     "output_type": "execute_result"
    }
   ],
   "source": [
    "reddit.head(2)"
   ]
  },
  {
   "cell_type": "code",
   "execution_count": 495,
   "metadata": {},
   "outputs": [
    {
     "data": {
      "text/plain": [
       "(5405, 1682)"
      ]
     },
     "execution_count": 495,
     "metadata": {},
     "output_type": "execute_result"
    }
   ],
   "source": [
    "X.shape"
   ]
  },
  {
   "cell_type": "code",
   "execution_count": 496,
   "metadata": {},
   "outputs": [
    {
     "data": {
      "text/plain": [
       "(5405,)"
      ]
     },
     "execution_count": 496,
     "metadata": {},
     "output_type": "execute_result"
    }
   ],
   "source": [
    "y.shape"
   ]
  },
  {
   "cell_type": "code",
   "execution_count": 497,
   "metadata": {
    "collapsed": true
   },
   "outputs": [],
   "source": [
    "X['curse_words'] = reddit['curse_words']\n",
    "X['fun_words'] = reddit['fun_words']\n",
    "X['happy_words'] = reddit['happy_words']\n",
    "X['vice_words'] = reddit['vice_words']"
   ]
  },
  {
   "cell_type": "code",
   "execution_count": 498,
   "metadata": {},
   "outputs": [
    {
     "data": {
      "text/plain": [
       "(5405, 1686)"
      ]
     },
     "execution_count": 498,
     "metadata": {},
     "output_type": "execute_result"
    }
   ],
   "source": [
    "X.shape"
   ]
  },
  {
   "cell_type": "code",
   "execution_count": 499,
   "metadata": {
    "collapsed": true
   },
   "outputs": [],
   "source": [
    "X_words = X"
   ]
  },
  {
   "cell_type": "code",
   "execution_count": 500,
   "metadata": {},
   "outputs": [
    {
     "name": "stdout",
     "output_type": "stream",
     "text": [
      "Cross-validated RF scores based on words: [ 0.62812211  0.61702128  0.6466235   0.64199815  0.5559667 ]\n",
      "Mean score: 0.617946345976\n"
     ]
    }
   ],
   "source": [
    "rf_words = RandomForestClassifier(n_estimators=50, random_state=42, n_jobs=-1)\n",
    "\n",
    "scores = cross_val_score(rf_words, X, y, cv=skf)\n",
    "print \"Cross-validated RF scores based on words:\", scores\n",
    "print \"Mean score:\", scores.mean()"
   ]
  },
  {
   "cell_type": "markdown",
   "metadata": {},
   "source": [
    "### I'll try a distance based classification model now:"
   ]
  },
  {
   "cell_type": "markdown",
   "metadata": {},
   "source": [
    "### <div class=\"alert alert-block alert-warning\">MODEL #3: <br>Feature(s) - Subreddit + frequency of certain words <br>Model - K-Nearest Neighbors (5)</div>"
   ]
  },
  {
   "cell_type": "code",
   "execution_count": 501,
   "metadata": {
    "collapsed": true
   },
   "outputs": [],
   "source": [
    "from sklearn.neighbors import KNeighborsClassifier"
   ]
  },
  {
   "cell_type": "code",
   "execution_count": 502,
   "metadata": {
    "collapsed": true
   },
   "outputs": [],
   "source": [
    "knn5 = KNeighborsClassifier(n_neighbors=5, weights='uniform')"
   ]
  },
  {
   "cell_type": "code",
   "execution_count": 503,
   "metadata": {
    "collapsed": true
   },
   "outputs": [],
   "source": [
    "ss = StandardScaler()\n",
    "Xs = ss.fit_transform(X) "
   ]
  },
  {
   "cell_type": "code",
   "execution_count": 504,
   "metadata": {},
   "outputs": [
    {
     "name": "stdout",
     "output_type": "stream",
     "text": [
      "Cross-validated KNN5 scores based on words: [ 0.45698427  0.50693802  0.53931545  0.60314524  0.49213691]\n",
      "Mean score: 0.519703977798\n"
     ]
    }
   ],
   "source": [
    "scores = cross_val_score(knn5, Xs, y, cv=skf)\n",
    "print 'Cross-validated KNN5 scores based on words:', scores\n",
    "print 'Mean score:', scores.mean()"
   ]
  },
  {
   "cell_type": "markdown",
   "metadata": {},
   "source": [
    "### <div class=\"alert alert-block alert-warning\">MODEL #4: <br>Feature(s) - Tokenized title feature <br>Model - RandomForest</div>"
   ]
  },
  {
   "cell_type": "code",
   "execution_count": 505,
   "metadata": {
    "collapsed": true
   },
   "outputs": [],
   "source": [
    "from sklearn.feature_extraction.text import CountVectorizer"
   ]
  },
  {
   "cell_type": "code",
   "execution_count": 506,
   "metadata": {},
   "outputs": [
    {
     "data": {
      "text/plain": [
       "CountVectorizer(analyzer=u'word', binary=False, decode_error=u'strict',\n",
       "        dtype=<type 'numpy.int64'>, encoding=u'utf-8', input=u'content',\n",
       "        lowercase=True, max_df=1.0, max_features=None, min_df=1,\n",
       "        ngram_range=(1, 2), preprocessor=None, stop_words='english',\n",
       "        strip_accents='unicode', token_pattern=u'(?u)\\\\b\\\\w\\\\w+\\\\b',\n",
       "        tokenizer=None, vocabulary=None)"
      ]
     },
     "execution_count": 506,
     "metadata": {},
     "output_type": "execute_result"
    }
   ],
   "source": [
    "cvec = CountVectorizer(ngram_range=(1,2), stop_words='english', strip_accents='unicode')\n",
    "cvec"
   ]
  },
  {
   "cell_type": "code",
   "execution_count": 507,
   "metadata": {},
   "outputs": [
    {
     "data": {
      "text/plain": [
       "(5405, 36415)"
      ]
     },
     "execution_count": 507,
     "metadata": {},
     "output_type": "execute_result"
    }
   ],
   "source": [
    "cvec.fit(reddit['title'])\n",
    "\n",
    "\n",
    "title_tokens = pd.DataFrame(cvec.transform(reddit['title']).todense(),\n",
    "             columns=cvec.get_feature_names())\n",
    "\n",
    "title_tokens.shape"
   ]
  },
  {
   "cell_type": "code",
   "execution_count": 508,
   "metadata": {
    "collapsed": true
   },
   "outputs": [],
   "source": [
    "title_tokens.reset_index(inplace=True, drop=True)"
   ]
  },
  {
   "cell_type": "code",
   "execution_count": 509,
   "metadata": {
    "collapsed": true
   },
   "outputs": [],
   "source": [
    "X.reset_index(inplace=True, drop=True)"
   ]
  },
  {
   "cell_type": "code",
   "execution_count": 510,
   "metadata": {},
   "outputs": [
    {
     "data": {
      "text/html": [
       "<div>\n",
       "<style>\n",
       "    .dataframe thead tr:only-child th {\n",
       "        text-align: right;\n",
       "    }\n",
       "\n",
       "    .dataframe thead th {\n",
       "        text-align: left;\n",
       "    }\n",
       "\n",
       "    .dataframe tbody tr th {\n",
       "        vertical-align: top;\n",
       "    }\n",
       "</style>\n",
       "<table border=\"1\" class=\"dataframe\">\n",
       "  <thead>\n",
       "    <tr style=\"text-align: right;\">\n",
       "      <th></th>\n",
       "      <th>00</th>\n",
       "      <th>00 30</th>\n",
       "      <th>00 buckshot</th>\n",
       "      <th>00 gmt</th>\n",
       "      <th>00 refers</th>\n",
       "      <th>00 ripple</th>\n",
       "      <th>00 tattoos</th>\n",
       "      <th>000</th>\n",
       "      <th>000 000</th>\n",
       "      <th>000 2000</th>\n",
       "      <th>...</th>\n",
       "      <th>사춘기</th>\n",
       "      <th>사춘기 perform</th>\n",
       "      <th>있어</th>\n",
       "      <th>있어 love</th>\n",
       "      <th>청하</th>\n",
       "      <th>청하 roller</th>\n",
       "      <th>ヘひォヒ</th>\n",
       "      <th>你好</th>\n",
       "      <th>你好 local</th>\n",
       "      <th>陈志堃</th>\n",
       "    </tr>\n",
       "  </thead>\n",
       "  <tbody>\n",
       "    <tr>\n",
       "      <th>0</th>\n",
       "      <td>0</td>\n",
       "      <td>0</td>\n",
       "      <td>0</td>\n",
       "      <td>0</td>\n",
       "      <td>0</td>\n",
       "      <td>0</td>\n",
       "      <td>0</td>\n",
       "      <td>0</td>\n",
       "      <td>0</td>\n",
       "      <td>0</td>\n",
       "      <td>...</td>\n",
       "      <td>0</td>\n",
       "      <td>0</td>\n",
       "      <td>0</td>\n",
       "      <td>0</td>\n",
       "      <td>0</td>\n",
       "      <td>0</td>\n",
       "      <td>0</td>\n",
       "      <td>0</td>\n",
       "      <td>0</td>\n",
       "      <td>0</td>\n",
       "    </tr>\n",
       "    <tr>\n",
       "      <th>1</th>\n",
       "      <td>0</td>\n",
       "      <td>0</td>\n",
       "      <td>0</td>\n",
       "      <td>0</td>\n",
       "      <td>0</td>\n",
       "      <td>0</td>\n",
       "      <td>0</td>\n",
       "      <td>0</td>\n",
       "      <td>0</td>\n",
       "      <td>0</td>\n",
       "      <td>...</td>\n",
       "      <td>0</td>\n",
       "      <td>0</td>\n",
       "      <td>0</td>\n",
       "      <td>0</td>\n",
       "      <td>0</td>\n",
       "      <td>0</td>\n",
       "      <td>0</td>\n",
       "      <td>0</td>\n",
       "      <td>0</td>\n",
       "      <td>0</td>\n",
       "    </tr>\n",
       "    <tr>\n",
       "      <th>2</th>\n",
       "      <td>0</td>\n",
       "      <td>0</td>\n",
       "      <td>0</td>\n",
       "      <td>0</td>\n",
       "      <td>0</td>\n",
       "      <td>0</td>\n",
       "      <td>0</td>\n",
       "      <td>0</td>\n",
       "      <td>0</td>\n",
       "      <td>0</td>\n",
       "      <td>...</td>\n",
       "      <td>0</td>\n",
       "      <td>0</td>\n",
       "      <td>0</td>\n",
       "      <td>0</td>\n",
       "      <td>0</td>\n",
       "      <td>0</td>\n",
       "      <td>0</td>\n",
       "      <td>0</td>\n",
       "      <td>0</td>\n",
       "      <td>0</td>\n",
       "    </tr>\n",
       "    <tr>\n",
       "      <th>3</th>\n",
       "      <td>0</td>\n",
       "      <td>0</td>\n",
       "      <td>0</td>\n",
       "      <td>0</td>\n",
       "      <td>0</td>\n",
       "      <td>0</td>\n",
       "      <td>0</td>\n",
       "      <td>0</td>\n",
       "      <td>0</td>\n",
       "      <td>0</td>\n",
       "      <td>...</td>\n",
       "      <td>0</td>\n",
       "      <td>0</td>\n",
       "      <td>0</td>\n",
       "      <td>0</td>\n",
       "      <td>0</td>\n",
       "      <td>0</td>\n",
       "      <td>0</td>\n",
       "      <td>0</td>\n",
       "      <td>0</td>\n",
       "      <td>0</td>\n",
       "    </tr>\n",
       "    <tr>\n",
       "      <th>4</th>\n",
       "      <td>0</td>\n",
       "      <td>0</td>\n",
       "      <td>0</td>\n",
       "      <td>0</td>\n",
       "      <td>0</td>\n",
       "      <td>0</td>\n",
       "      <td>0</td>\n",
       "      <td>0</td>\n",
       "      <td>0</td>\n",
       "      <td>0</td>\n",
       "      <td>...</td>\n",
       "      <td>0</td>\n",
       "      <td>0</td>\n",
       "      <td>0</td>\n",
       "      <td>0</td>\n",
       "      <td>0</td>\n",
       "      <td>0</td>\n",
       "      <td>0</td>\n",
       "      <td>0</td>\n",
       "      <td>0</td>\n",
       "      <td>0</td>\n",
       "    </tr>\n",
       "  </tbody>\n",
       "</table>\n",
       "<p>5 rows × 36415 columns</p>\n",
       "</div>"
      ],
      "text/plain": [
       "   00  00 30  00 buckshot  00 gmt  00 refers  00 ripple  00 tattoos  000  \\\n",
       "0   0      0            0       0          0          0           0    0   \n",
       "1   0      0            0       0          0          0           0    0   \n",
       "2   0      0            0       0          0          0           0    0   \n",
       "3   0      0            0       0          0          0           0    0   \n",
       "4   0      0            0       0          0          0           0    0   \n",
       "\n",
       "   000 000  000 2000 ...   사춘기  사춘기 perform  있어  있어 love  청하  \\\n",
       "0        0         0 ...         0                0      0           0      0   \n",
       "1        0         0 ...         0                0      0           0      0   \n",
       "2        0         0 ...         0                0      0           0      0   \n",
       "3        0         0 ...         0                0      0           0      0   \n",
       "4        0         0 ...         0                0      0           0      0   \n",
       "\n",
       "   청하 roller  ヘひォヒ  你好  你好 local  陈志堃  \n",
       "0             0     0   0         0    0  \n",
       "1             0     0   0         0    0  \n",
       "2             0     0   0         0    0  \n",
       "3             0     0   0         0    0  \n",
       "4             0     0   0         0    0  \n",
       "\n",
       "[5 rows x 36415 columns]"
      ]
     },
     "execution_count": 510,
     "metadata": {},
     "output_type": "execute_result"
    }
   ],
   "source": [
    "title_tokens.head()"
   ]
  },
  {
   "cell_type": "code",
   "execution_count": 511,
   "metadata": {
    "collapsed": true
   },
   "outputs": [],
   "source": [
    " X = pd.merge(X,title_tokens, left_index=True, right_index=True)"
   ]
  },
  {
   "cell_type": "code",
   "execution_count": 512,
   "metadata": {},
   "outputs": [
    {
     "data": {
      "text/plain": [
       "(5405, 38101)"
      ]
     },
     "execution_count": 512,
     "metadata": {},
     "output_type": "execute_result"
    }
   ],
   "source": [
    "X.shape"
   ]
  },
  {
   "cell_type": "code",
   "execution_count": 513,
   "metadata": {},
   "outputs": [
    {
     "name": "stdout",
     "output_type": "stream",
     "text": [
      "Cross-validated RF scores based on vectorized titles: [ 0.56336725  0.54764107  0.59111933  0.5920444   0.60869565]\n",
      "Mean score: 0.580573543016\n"
     ]
    }
   ],
   "source": [
    "rf_vect = RandomForestClassifier(n_estimators=50, random_state=42, n_jobs=-1)\n",
    "\n",
    "scores = cross_val_score(rf_vect, X, y, cv=skf)\n",
    "print \"Cross-validated RF scores based on vectorized titles:\", scores\n",
    "print \"Mean score:\", scores.mean()"
   ]
  },
  {
   "cell_type": "markdown",
   "metadata": {},
   "source": [
    "### <div class=\"alert alert-block alert-warning\">MODEL #5: <br>Feature(s) - Sentiment analysis of title feature <br>Model - RandomForest</div>"
   ]
  },
  {
   "cell_type": "markdown",
   "metadata": {},
   "source": [
    "## Load Sentiment Analyzer and analyze the titles in the data:"
   ]
  },
  {
   "cell_type": "code",
   "execution_count": 514,
   "metadata": {},
   "outputs": [
    {
     "name": "stdout",
     "output_type": "stream",
     "text": [
      "finnish ski jumping team\n",
      "{'neg': 0.0, 'neu': 1.0, 'pos': 0.0, 'compound': 0.0}\n",
      "super excited about motherhood\n",
      "{'neg': 0.0, 'neu': 0.241, 'pos': 0.759, 'compound': 0.743}\n",
      "messing with the new guy.\n",
      "{'neg': 0.0, 'neu': 1.0, 'pos': 0.0, 'compound': 0.0}\n",
      "nasa cancels and postpones all of their public events and activities until further notice due to government shutdown.\n",
      "{'neg': 0.2, 'neu': 0.8, 'pos': 0.0, 'compound': -0.4588}\n",
      "new bill would stop states from banning broadband competition\n",
      "{'neg': 0.216, 'neu': 0.784, 'pos': 0.0, 'compound': -0.296}\n",
      "no evidence to support link between violent video games and behaviour - researchers at the university of york have found no evidence to support the theory that video games make players more violent.\n",
      "{'neg': 0.28, 'neu': 0.596, 'pos': 0.124, 'compound': -0.7783}\n",
      "just picking up some supplies\n",
      "{'neg': 0.0, 'neu': 1.0, 'pos': 0.0, 'compound': 0.0}\n",
      "when my wife and i come home from a date night high as fuck and discover our babysitter has also cleaned the entire house\n",
      "{'neg': 0.143, 'neu': 0.857, 'pos': 0.0, 'compound': -0.5423}\n",
      "metal giants slayer are calling it quits after one more world tour\n",
      "{'neg': 0.0, 'neu': 1.0, 'pos': 0.0, 'compound': 0.0}\n",
      "i was wondering why my grenade didn't kill him...well here is why\n",
      "{'neg': 0.0, 'neu': 0.728, 'pos': 0.272, 'compound': 0.5773}\n"
     ]
    }
   ],
   "source": [
    "from vaderSentiment.vaderSentiment import SentimentIntensityAnalyzer\n",
    "\n",
    "analyzer = SentimentIntensityAnalyzer()\n",
    "for title in reddit.title.values[0:10]:\n",
    "    vs = analyzer.polarity_scores(title)\n",
    "    print title\n",
    "    print vs"
   ]
  },
  {
   "cell_type": "markdown",
   "metadata": {},
   "source": [
    "## Add columns to Reddit DataFrame for attributes of Sentiment Analysis:"
   ]
  },
  {
   "cell_type": "code",
   "execution_count": 515,
   "metadata": {
    "collapsed": true
   },
   "outputs": [],
   "source": [
    "reddit['vader_neg'] = 0\n",
    "reddit['vader_pos'] = 0\n",
    "reddit['vader_neu'] = 0\n",
    "reddit['vader_compound'] = 0\n",
    "\n",
    "for i, q in enumerate(reddit.title.values):\n",
    "    vs = analyzer.polarity_scores(q)\n",
    "    reddit.iloc[i, -4] = vs['neg']\n",
    "    reddit.iloc[i, -3] = vs['pos']\n",
    "    reddit.iloc[i, -2] = vs['neu']\n",
    "    reddit.iloc[i, -1] = vs['compound']"
   ]
  },
  {
   "cell_type": "code",
   "execution_count": 516,
   "metadata": {},
   "outputs": [
    {
     "name": "stdout",
     "output_type": "stream",
     "text": [
      "(0, 'Unnamed: 0')\n",
      "(1, 'created_at')\n",
      "(2, 'id')\n",
      "(3, 'num_comments')\n",
      "(4, 'subreddit')\n",
      "(5, 'time_delta')\n",
      "(6, 'time_now')\n",
      "(7, 'title')\n",
      "(8, 'upvotes')\n",
      "(9, 'comm_range')\n",
      "(10, 'curse_words')\n",
      "(11, 'fun_words')\n",
      "(12, 'happy_words')\n",
      "(13, 'vice_words')\n",
      "(14, 'vader_neg')\n",
      "(15, 'vader_pos')\n",
      "(16, 'vader_neu')\n",
      "(17, 'vader_compound')\n",
      "(18, 'title_len')\n"
     ]
    }
   ],
   "source": [
    "for ind, column in enumerate(reddit.columns):\n",
    "    print(ind, column)"
   ]
  },
  {
   "cell_type": "markdown",
   "metadata": {},
   "source": [
    "## Add feature for length of the post title:"
   ]
  },
  {
   "cell_type": "code",
   "execution_count": 517,
   "metadata": {
    "collapsed": true
   },
   "outputs": [],
   "source": [
    "reddit['title_len'] = reddit['title'].apply(lambda x: len(x.split()))"
   ]
  },
  {
   "cell_type": "code",
   "execution_count": 518,
   "metadata": {},
   "outputs": [
    {
     "name": "stdout",
     "output_type": "stream",
     "text": [
      "after a government shutdown all active members of congress should be ineligible for reelection. {'neg': 0.0, 'neu': 0.816, 'pos': 0.184, 'compound': 0.4019}\n",
      "Length:  14\n",
      "this is why you should restrict access to the server room before firing your it guy {'neg': 0.263, 'neu': 0.737, 'pos': 0.0, 'compound': -0.6124}\n",
      "Length:  16\n",
      "frankie, falling asleep like the glorious derp he is. {'neg': 0.112, 'neu': 0.42, 'pos': 0.469, 'compound': 0.7269}\n",
      "Length:  9\n",
      "i took the plunge and booked my lifelong dream trip to film in antarctica. the best 12 days of travel i've ever had. {'neg': 0.0, 'neu': 0.763, 'pos': 0.237, 'compound': 0.7351}\n",
      "Length:  23\n",
      "no pizza for anybody 🍕🇺🇸 {'neg': 0.355, 'neu': 0.645, 'pos': 0.0, 'compound': -0.296}\n",
      "Length:  5\n",
      "smack that tail {'neg': 0.0, 'neu': 1.0, 'pos': 0.0, 'compound': 0.0}\n",
      "Length:  3\n",
      "this is where the fun begins! {'neg': 0.0, 'neu': 0.582, 'pos': 0.418, 'compound': 0.5562}\n",
      "Length:  6\n",
      "parrot shares pasta with his buddy. {'neg': 0.0, 'neu': 0.694, 'pos': 0.306, 'compound': 0.296}\n",
      "Length:  6\n",
      "throwback to the good days {'neg': 0.0, 'neu': 0.58, 'pos': 0.42, 'compound': 0.4404}\n",
      "Length:  5\n",
      "crops by firelight {'neg': 0.0, 'neu': 1.0, 'pos': 0.0, 'compound': 0.0}\n",
      "Length:  3\n"
     ]
    }
   ],
   "source": [
    "for i in range(100,110):\n",
    "    print reddit.title.values[i], analyzer.polarity_scores(reddit.title.values[i])\n",
    "    print 'Length: ', len(reddit.title.values[i].split())"
   ]
  },
  {
   "cell_type": "code",
   "execution_count": 519,
   "metadata": {},
   "outputs": [
    {
     "name": "stdout",
     "output_type": "stream",
     "text": [
      "(0, 'Unnamed: 0')\n",
      "(1, 'created_at')\n",
      "(2, 'id')\n",
      "(3, 'num_comments')\n",
      "(4, 'subreddit')\n",
      "(5, 'time_delta')\n",
      "(6, 'time_now')\n",
      "(7, 'title')\n",
      "(8, 'upvotes')\n",
      "(9, 'comm_range')\n",
      "(10, 'curse_words')\n",
      "(11, 'fun_words')\n",
      "(12, 'happy_words')\n",
      "(13, 'vice_words')\n",
      "(14, 'vader_neg')\n",
      "(15, 'vader_pos')\n",
      "(16, 'vader_neu')\n",
      "(17, 'vader_compound')\n",
      "(18, 'title_len')\n"
     ]
    }
   ],
   "source": [
    "for ind, column in enumerate(reddit.columns):\n",
    "    print(ind, column)"
   ]
  },
  {
   "cell_type": "markdown",
   "metadata": {},
   "source": [
    "## Set up feature variable X to have the length of the title and the following sentiment scores:\n",
    ">-  Negative score\n",
    ">-  Positive score\n",
    ">-  Neutral score\n",
    ">-  Compound score"
   ]
  },
  {
   "cell_type": "code",
   "execution_count": 520,
   "metadata": {
    "collapsed": true
   },
   "outputs": [],
   "source": [
    "X = reddit[['vader_neg','vader_pos','vader_neu','vader_compound','title_len']]"
   ]
  },
  {
   "cell_type": "markdown",
   "metadata": {},
   "source": [
    "## Run RandomForest on the new sentiment columns:"
   ]
  },
  {
   "cell_type": "code",
   "execution_count": 521,
   "metadata": {},
   "outputs": [
    {
     "name": "stdout",
     "output_type": "stream",
     "text": [
      "Cross-validated RF scores based on sentiment: [ 0.52358927  0.52913969  0.54024052  0.55411656  0.55041628]\n",
      "Mean of scores: 0.539500462535\n"
     ]
    }
   ],
   "source": [
    "rf_sentiment = RandomForestClassifier(n_estimators=50, random_state=42, n_jobs=-1)\n",
    "\n",
    "scores = cross_val_score(rf_sentiment, X, y, cv=skf)\n",
    "print \"Cross-validated RF scores based on sentiment:\", scores\n",
    "print \"Mean of scores:\", scores.mean()"
   ]
  },
  {
   "cell_type": "markdown",
   "metadata": {},
   "source": [
    "### <div class=\"alert alert-block alert-warning\">MODEL #6: <br>Feature(s) - Sentiment analysis of title feature <br>Model - Logistic Regression</div>"
   ]
  },
  {
   "cell_type": "markdown",
   "metadata": {},
   "source": [
    "## Scale data for Logistic Regression model:"
   ]
  },
  {
   "cell_type": "code",
   "execution_count": 534,
   "metadata": {},
   "outputs": [
    {
     "name": "stdout",
     "output_type": "stream",
     "text": [
      "Cross-validated LogReg scores based on sentiment: [ 0.54764107  0.54579093  0.5800185   0.55874191  0.55041628]\n",
      "Mean of scores: 0.55652173913\n"
     ]
    }
   ],
   "source": [
    "Xs = StandardScaler().fit_transform(X)\n",
    "logreg_sentiment = LogisticRegression(random_state=42)\n",
    "\n",
    "scores = cross_val_score(logreg_sentiment, Xs, y, cv=skf)\n",
    "print 'Cross-validated LogReg scores based on sentiment:', scores\n",
    "print 'Mean of scores:', np.mean(scores)"
   ]
  },
  {
   "cell_type": "markdown",
   "metadata": {},
   "source": [
    "## Since Logistic Regression is a parametric model, we can look at coefficients to see which features have the most predictive power:"
   ]
  },
  {
   "cell_type": "code",
   "execution_count": 535,
   "metadata": {},
   "outputs": [
    {
     "data": {
      "text/plain": [
       "array([ 0.   ,  0.198,  0.1  ,  0.17 ,  0.239])"
      ]
     },
     "execution_count": 535,
     "metadata": {},
     "output_type": "execute_result"
    }
   ],
   "source": [
    "logreg_sentiment.fit(Xs, y).coef_[0].round(3)"
   ]
  },
  {
   "cell_type": "code",
   "execution_count": 536,
   "metadata": {},
   "outputs": [
    {
     "name": "stdout",
     "output_type": "stream",
     "text": [
      "neg 0.0\n",
      "pos 0.772\n",
      "neu -0.014\n",
      "compound 0.2\n",
      "len 0.029\n"
     ]
    }
   ],
   "source": [
    "for c, v in zip(logreg_sentiment.fit(X, y).coef_[0].round(3), ['neg','pos','neu','compound','len']):\n",
    "    print v, c"
   ]
  },
  {
   "cell_type": "code",
   "execution_count": 538,
   "metadata": {},
   "outputs": [
    {
     "data": {
      "text/html": [
       "<div>\n",
       "<style>\n",
       "    .dataframe thead tr:only-child th {\n",
       "        text-align: right;\n",
       "    }\n",
       "\n",
       "    .dataframe thead th {\n",
       "        text-align: left;\n",
       "    }\n",
       "\n",
       "    .dataframe tbody tr th {\n",
       "        vertical-align: top;\n",
       "    }\n",
       "</style>\n",
       "<table border=\"1\" class=\"dataframe\">\n",
       "  <thead>\n",
       "    <tr style=\"text-align: right;\">\n",
       "      <th></th>\n",
       "      <th>Coefficient</th>\n",
       "    </tr>\n",
       "  </thead>\n",
       "  <tbody>\n",
       "    <tr>\n",
       "      <th>Positive Sentiment</th>\n",
       "      <td>0.772</td>\n",
       "    </tr>\n",
       "    <tr>\n",
       "      <th>Compound</th>\n",
       "      <td>0.200</td>\n",
       "    </tr>\n",
       "    <tr>\n",
       "      <th>Length</th>\n",
       "      <td>0.029</td>\n",
       "    </tr>\n",
       "    <tr>\n",
       "      <th>Negative sentiment</th>\n",
       "      <td>0.000</td>\n",
       "    </tr>\n",
       "    <tr>\n",
       "      <th>Neutral</th>\n",
       "      <td>-0.014</td>\n",
       "    </tr>\n",
       "  </tbody>\n",
       "</table>\n",
       "</div>"
      ],
      "text/plain": [
       "                    Coefficient\n",
       "Positive Sentiment        0.772\n",
       "Compound                  0.200\n",
       "Length                    0.029\n",
       "Negative sentiment        0.000\n",
       "Neutral                  -0.014"
      ]
     },
     "execution_count": 538,
     "metadata": {},
     "output_type": "execute_result"
    }
   ],
   "source": [
    "features_scores ={}\n",
    "for c, v in zip(logreg_sentiment.fit(X, y).coef_[0].round(3), ['Negative sentiment','Positive Sentiment','Neutral','Compound','Length']):\n",
    "    features_scores[v] = c\n",
    "    \n",
    "    \n",
    "sent_coef = pd.DataFrame(features_scores, index=['Coefficient']).T.sort_values(by='Coefficient', ascending=False)\n",
    "sent_coef"
   ]
  },
  {
   "cell_type": "markdown",
   "metadata": {},
   "source": [
    "## As shown, any positive sentiment can have the most predictive power."
   ]
  },
  {
   "cell_type": "markdown",
   "metadata": {},
   "source": [
    "### <div class=\"alert alert-block alert-warning\">MODEL #7: <br>Feature(s) - Frequency of certain words<br>Model - Logistic Regression</div>"
   ]
  },
  {
   "cell_type": "markdown",
   "metadata": {},
   "source": [
    "## Revisit certain words features with Logistic Regression model:"
   ]
  },
  {
   "cell_type": "code",
   "execution_count": 540,
   "metadata": {},
   "outputs": [
    {
     "name": "stdout",
     "output_type": "stream",
     "text": [
      "Cross-validated LogReg scores based on certain words: [ 0.6253469   0.61887142  0.66882516  0.65402405  0.55504163]\n",
      "Mean of scores: 0.624421831637\n"
     ]
    }
   ],
   "source": [
    "#Xs_words = StandardScaler().fit_transform(X_words)\n",
    "logreg_words = LogisticRegression(random_state=42)\n",
    "\n",
    "scores = cross_val_score(logreg_words, X_words, y, cv=skf)\n",
    "print 'Cross-validated LogReg scores based on certain words:', scores\n",
    "print 'Mean of scores:', np.mean(scores)"
   ]
  },
  {
   "cell_type": "code",
   "execution_count": 544,
   "metadata": {},
   "outputs": [
    {
     "data": {
      "text/plain": [
       "array([ 0.175, -0.255,  0.202,  0.656])"
      ]
     },
     "execution_count": 544,
     "metadata": {},
     "output_type": "execute_result"
    }
   ],
   "source": [
    "logreg_words.fit(X_words, y).coef_[0].round(3)[-4:]"
   ]
  },
  {
   "cell_type": "code",
   "execution_count": 543,
   "metadata": {},
   "outputs": [
    {
     "data": {
      "text/html": [
       "<div>\n",
       "<style>\n",
       "    .dataframe thead tr:only-child th {\n",
       "        text-align: right;\n",
       "    }\n",
       "\n",
       "    .dataframe thead th {\n",
       "        text-align: left;\n",
       "    }\n",
       "\n",
       "    .dataframe tbody tr th {\n",
       "        vertical-align: top;\n",
       "    }\n",
       "</style>\n",
       "<table border=\"1\" class=\"dataframe\">\n",
       "  <thead>\n",
       "    <tr style=\"text-align: right;\">\n",
       "      <th></th>\n",
       "      <th>sub_13or30</th>\n",
       "      <th>sub_195</th>\n",
       "      <th>sub_2healthbars</th>\n",
       "      <th>sub_2meirl42meirl4meirl</th>\n",
       "      <th>sub_2meirl4meirl</th>\n",
       "      <th>sub_30ROCK</th>\n",
       "      <th>sub_3Dprinting</th>\n",
       "      <th>sub_40kLore</th>\n",
       "      <th>sub_49ers</th>\n",
       "      <th>sub_4PanelCringe</th>\n",
       "      <th>...</th>\n",
       "      <th>sub_yesyesyesyesno</th>\n",
       "      <th>sub_ynab</th>\n",
       "      <th>sub_youdontsurf</th>\n",
       "      <th>sub_youtube</th>\n",
       "      <th>sub_youtubehaiku</th>\n",
       "      <th>sub_zelda</th>\n",
       "      <th>curse_words</th>\n",
       "      <th>fun_words</th>\n",
       "      <th>happy_words</th>\n",
       "      <th>vice_words</th>\n",
       "    </tr>\n",
       "  </thead>\n",
       "  <tbody>\n",
       "    <tr>\n",
       "      <th>0</th>\n",
       "      <td>0</td>\n",
       "      <td>0</td>\n",
       "      <td>0</td>\n",
       "      <td>0</td>\n",
       "      <td>0</td>\n",
       "      <td>0</td>\n",
       "      <td>0</td>\n",
       "      <td>0</td>\n",
       "      <td>0</td>\n",
       "      <td>0</td>\n",
       "      <td>...</td>\n",
       "      <td>0</td>\n",
       "      <td>0</td>\n",
       "      <td>0</td>\n",
       "      <td>0</td>\n",
       "      <td>0</td>\n",
       "      <td>0</td>\n",
       "      <td>0</td>\n",
       "      <td>0</td>\n",
       "      <td>0</td>\n",
       "      <td>0</td>\n",
       "    </tr>\n",
       "  </tbody>\n",
       "</table>\n",
       "<p>1 rows × 1686 columns</p>\n",
       "</div>"
      ],
      "text/plain": [
       "   sub_13or30  sub_195  sub_2healthbars  sub_2meirl42meirl4meirl  \\\n",
       "0           0        0                0                        0   \n",
       "\n",
       "   sub_2meirl4meirl  sub_30ROCK  sub_3Dprinting  sub_40kLore  sub_49ers  \\\n",
       "0                 0           0               0            0          0   \n",
       "\n",
       "   sub_4PanelCringe     ...      sub_yesyesyesyesno  sub_ynab  \\\n",
       "0                 0     ...                       0         0   \n",
       "\n",
       "   sub_youdontsurf  sub_youtube  sub_youtubehaiku  sub_zelda  curse_words  \\\n",
       "0                0            0                 0          0            0   \n",
       "\n",
       "   fun_words  happy_words  vice_words  \n",
       "0          0            0           0  \n",
       "\n",
       "[1 rows x 1686 columns]"
      ]
     },
     "execution_count": 543,
     "metadata": {},
     "output_type": "execute_result"
    }
   ],
   "source": [
    "X_words.head(1)"
   ]
  },
  {
   "cell_type": "code",
   "execution_count": 546,
   "metadata": {},
   "outputs": [
    {
     "name": "stdout",
     "output_type": "stream",
     "text": [
      "Curse 0.175\n",
      "Fun -0.255\n",
      "Happy 0.202\n",
      "Vice 0.656\n"
     ]
    }
   ],
   "source": [
    "for c, v in zip(logreg_words.fit(X_words, y).coef_[0].round(3)[-4:], ['Curse','Fun','Happy','Vice']):\n",
    "    print v, c"
   ]
  },
  {
   "cell_type": "code",
   "execution_count": 547,
   "metadata": {},
   "outputs": [
    {
     "data": {
      "text/html": [
       "<div>\n",
       "<style>\n",
       "    .dataframe thead tr:only-child th {\n",
       "        text-align: right;\n",
       "    }\n",
       "\n",
       "    .dataframe thead th {\n",
       "        text-align: left;\n",
       "    }\n",
       "\n",
       "    .dataframe tbody tr th {\n",
       "        vertical-align: top;\n",
       "    }\n",
       "</style>\n",
       "<table border=\"1\" class=\"dataframe\">\n",
       "  <thead>\n",
       "    <tr style=\"text-align: right;\">\n",
       "      <th></th>\n",
       "      <th>Coefficient</th>\n",
       "    </tr>\n",
       "  </thead>\n",
       "  <tbody>\n",
       "    <tr>\n",
       "      <th>Vice</th>\n",
       "      <td>0.656</td>\n",
       "    </tr>\n",
       "    <tr>\n",
       "      <th>Happy</th>\n",
       "      <td>0.202</td>\n",
       "    </tr>\n",
       "    <tr>\n",
       "      <th>Curse</th>\n",
       "      <td>0.175</td>\n",
       "    </tr>\n",
       "    <tr>\n",
       "      <th>Fun</th>\n",
       "      <td>-0.255</td>\n",
       "    </tr>\n",
       "  </tbody>\n",
       "</table>\n",
       "</div>"
      ],
      "text/plain": [
       "       Coefficient\n",
       "Vice         0.656\n",
       "Happy        0.202\n",
       "Curse        0.175\n",
       "Fun         -0.255"
      ]
     },
     "execution_count": 547,
     "metadata": {},
     "output_type": "execute_result"
    }
   ],
   "source": [
    "features_scores ={}\n",
    "for c, v in zip(logreg_words.fit(X_words, y).coef_[0].round(3)[-4:], ['Curse','Fun','Happy','Vice']):\n",
    "    features_scores[v] = c\n",
    "    \n",
    "    \n",
    "sent_coef = pd.DataFrame(features_scores, index=['Coefficient']).T.sort_values(by='Coefficient', ascending=False)\n",
    "sent_coef"
   ]
  },
  {
   "cell_type": "markdown",
   "metadata": {},
   "source": [
    "# <div class=\"alert alert-block alert-info\">STEP 5: Executive summary:</div>"
   ]
  },
  {
   "cell_type": "markdown",
   "metadata": {},
   "source": [
    "## From a small startup in 2005, to the \"Front Page of the Internet\", Reddit.com has grown to become a social media giant.  As one of the top 25 visited websites in the world, your company has revolutionized the way that people share news and interesting stories.  Users can be seen and heard, and be a part of something much larger than themselves.  Not unlike your users, you want to be seen and heard as well, but more importantly, not forgotten.  Therein lies the challenge you face ahead of you: remaining the \"front\" page of the internet and not becoming the \"back\" page.  \n",
    "\n",
    "## Your users are clearly loyal today, but they are constantly pulled in many directions for their social interactions.  Will they continue to spend time on your website with the same insatiable desire they have today?  No one knows for sure.  But what is known is that without that social interaction, users will go elsewhere.  They want their posts and threads to be seen, read and most importantly, commented on.  That's what keeps them coming back for more.   Challenge number one at reddit.com is how to help your users get more comments to their posts.  This will keep them as happy customers coming back for more....for years to come.  Additionally, more comments means more social interactions, which means more users, which means more comments, which means more of....everything.  It's how you've already built your brand, so you get the idea.  Here's where I can help.\n",
    "\n",
    "## The goal of my project for Reddit.com was two-fold.  First and foremost, through analyis of past posts and how many comments those posts received, I have built a Machine Learning model that attempts to predict whether or not a new post to your website will garner more or less comments than the median number of comments on previous posts.  Second, through my exploratory data analysis work and model testing methods, I was able to uncover a few characteristics of a post that will give it the best chance at gaining a higher number of comments.  \n",
    "\n",
    "## As my enclosed analysis shows, by merely guessing, you can predict if a new post will do well with 51% accuracy.   My ML model, on the other hand, can allow you to predict with an increased accuracy of 62%.  I've also determined that more positive sentiments in the post titles will get people commenting more as well.  Users also seem to slightly favor longer rather than shorter titles.\n",
    "\n",
    "## Maybe users are scared away or bored with short one or two word titles.  Maybe they come to your website to read positive content to brighten their day.  My data seems to corroborate as much.  So while content itself certainly takes a leading role in the success of a post, my analysis will give you the extra advice you can provide to your users to keep Reddit.com from becoming the next Friendster.com of the social networking website junkyard.\n",
    "\n",
    "## Remember, the back page rarely gets looked at!!"
   ]
  },
  {
   "cell_type": "markdown",
   "metadata": {},
   "source": [
    "#### By: Richard Giegerich"
   ]
  }
 ],
 "metadata": {
  "anaconda-cloud": {},
  "kernelspec": {
   "display_name": "Python 2",
   "language": "python",
   "name": "python2"
  },
  "language_info": {
   "codemirror_mode": {
    "name": "ipython",
    "version": 2
   },
   "file_extension": ".py",
   "mimetype": "text/x-python",
   "name": "python",
   "nbconvert_exporter": "python",
   "pygments_lexer": "ipython2",
   "version": "2.7.14"
  },
  "varInspector": {
   "cols": {
    "lenName": 16,
    "lenType": 16,
    "lenVar": 40
   },
   "kernels_config": {
    "python": {
     "delete_cmd_postfix": "",
     "delete_cmd_prefix": "del ",
     "library": "var_list.py",
     "varRefreshCmd": "print(var_dic_list())"
    },
    "r": {
     "delete_cmd_postfix": ") ",
     "delete_cmd_prefix": "rm(",
     "library": "var_list.r",
     "varRefreshCmd": "cat(var_dic_list()) "
    }
   },
   "types_to_exclude": [
    "module",
    "function",
    "builtin_function_or_method",
    "instance",
    "_Feature"
   ],
   "window_display": false
  }
 },
 "nbformat": 4,
 "nbformat_minor": 1
}
